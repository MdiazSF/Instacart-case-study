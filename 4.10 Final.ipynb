{
 "cells": [
  {
   "cell_type": "markdown",
   "id": "b2385973",
   "metadata": {},
   "source": [
    "1. Import libraries and data\n",
    "2. Consider security implications that may exist \n",
    "3. Create a regional segmentation of data\n",
    "4. Create an exclusion flag for low activity customers and exclude\n",
    "5. Create a profiling variabe based on age, income, certain goods in the 'department_id' column (vegan status), and number of dependents\n",
    "6. Aggregate the max, mean, and min variables for usage frequency and expenditure.\n",
    "7. Visualizations to show the distribution of profiles.\n",
    "8. Compare customer profile with regions and departments."
   ]
  },
  {
   "cell_type": "code",
   "execution_count": 1,
   "id": "a3bb1b41",
   "metadata": {},
   "outputs": [],
   "source": [
    "#1 Importing libraries\n",
    "import pandas as pd\n",
    "import numpy as np\n",
    "import os\n",
    "import matplotlib.pyplot as plt\n",
    "import seaborn as sns\n",
    "import scipy"
   ]
  },
  {
   "cell_type": "code",
   "execution_count": 2,
   "id": "8230548e",
   "metadata": {},
   "outputs": [],
   "source": [
    "path = r'/Users/mdiaz/Desktop/CF/Project 4 Instacart Python/Data/Org'"
   ]
  },
  {
   "cell_type": "code",
   "execution_count": 9,
   "id": "b4e50a1a",
   "metadata": {},
   "outputs": [],
   "source": [
    "#import new version with customer data set\n",
    "df = pd.read_pickle(os.path.join(path,'Prepared Data 4.9','df_merged_final.pkl'))"
   ]
  },
  {
   "cell_type": "code",
   "execution_count": 10,
   "id": "5abee94f",
   "metadata": {},
   "outputs": [],
   "source": [
    "# To drop unneeded _merge column\n",
    "df.drop(columns={'_merge'},inplace=True)"
   ]
  },
  {
   "cell_type": "markdown",
   "id": "7aeaa0a8",
   "metadata": {},
   "source": [
    "#2 Check Security Implications - The PII such as first and last name are visible. "
   ]
  },
  {
   "cell_type": "code",
   "execution_count": 11,
   "id": "43f26054",
   "metadata": {},
   "outputs": [
    {
     "data": {
      "text/html": [
       "<div>\n",
       "<style scoped>\n",
       "    .dataframe tbody tr th:only-of-type {\n",
       "        vertical-align: middle;\n",
       "    }\n",
       "\n",
       "    .dataframe tbody tr th {\n",
       "        vertical-align: top;\n",
       "    }\n",
       "\n",
       "    .dataframe thead th {\n",
       "        text-align: right;\n",
       "    }\n",
       "</style>\n",
       "<table border=\"1\" class=\"dataframe\">\n",
       "  <thead>\n",
       "    <tr style=\"text-align: right;\">\n",
       "      <th></th>\n",
       "      <th>order_id</th>\n",
       "      <th>user_id</th>\n",
       "      <th>eval_set</th>\n",
       "      <th>order_number</th>\n",
       "      <th>orders_day_of_week</th>\n",
       "      <th>order_hour_of_day</th>\n",
       "      <th>days_since_prior_order</th>\n",
       "      <th>product_id</th>\n",
       "      <th>add_to_cart_order</th>\n",
       "      <th>reordered</th>\n",
       "      <th>...</th>\n",
       "      <th>order_frequency_flag</th>\n",
       "      <th>first_name</th>\n",
       "      <th>last_name</th>\n",
       "      <th>gender</th>\n",
       "      <th>state</th>\n",
       "      <th>age</th>\n",
       "      <th>date_joined</th>\n",
       "      <th>no_of_dependents</th>\n",
       "      <th>marital_status</th>\n",
       "      <th>income</th>\n",
       "    </tr>\n",
       "  </thead>\n",
       "  <tbody>\n",
       "    <tr>\n",
       "      <th>0</th>\n",
       "      <td>2539329</td>\n",
       "      <td>1</td>\n",
       "      <td>prior</td>\n",
       "      <td>1</td>\n",
       "      <td>2</td>\n",
       "      <td>8</td>\n",
       "      <td>NaN</td>\n",
       "      <td>196</td>\n",
       "      <td>1</td>\n",
       "      <td>0</td>\n",
       "      <td>...</td>\n",
       "      <td>Non-frequent customer</td>\n",
       "      <td>Linda</td>\n",
       "      <td>Nguyen</td>\n",
       "      <td>Female</td>\n",
       "      <td>Alabama</td>\n",
       "      <td>31</td>\n",
       "      <td>2/17/2019</td>\n",
       "      <td>3</td>\n",
       "      <td>married</td>\n",
       "      <td>40423</td>\n",
       "    </tr>\n",
       "    <tr>\n",
       "      <th>1</th>\n",
       "      <td>2398795</td>\n",
       "      <td>1</td>\n",
       "      <td>prior</td>\n",
       "      <td>2</td>\n",
       "      <td>3</td>\n",
       "      <td>7</td>\n",
       "      <td>15.0</td>\n",
       "      <td>196</td>\n",
       "      <td>1</td>\n",
       "      <td>1</td>\n",
       "      <td>...</td>\n",
       "      <td>Non-frequent customer</td>\n",
       "      <td>Linda</td>\n",
       "      <td>Nguyen</td>\n",
       "      <td>Female</td>\n",
       "      <td>Alabama</td>\n",
       "      <td>31</td>\n",
       "      <td>2/17/2019</td>\n",
       "      <td>3</td>\n",
       "      <td>married</td>\n",
       "      <td>40423</td>\n",
       "    </tr>\n",
       "    <tr>\n",
       "      <th>2</th>\n",
       "      <td>473747</td>\n",
       "      <td>1</td>\n",
       "      <td>prior</td>\n",
       "      <td>3</td>\n",
       "      <td>3</td>\n",
       "      <td>12</td>\n",
       "      <td>21.0</td>\n",
       "      <td>196</td>\n",
       "      <td>1</td>\n",
       "      <td>1</td>\n",
       "      <td>...</td>\n",
       "      <td>Non-frequent customer</td>\n",
       "      <td>Linda</td>\n",
       "      <td>Nguyen</td>\n",
       "      <td>Female</td>\n",
       "      <td>Alabama</td>\n",
       "      <td>31</td>\n",
       "      <td>2/17/2019</td>\n",
       "      <td>3</td>\n",
       "      <td>married</td>\n",
       "      <td>40423</td>\n",
       "    </tr>\n",
       "    <tr>\n",
       "      <th>3</th>\n",
       "      <td>2254736</td>\n",
       "      <td>1</td>\n",
       "      <td>prior</td>\n",
       "      <td>4</td>\n",
       "      <td>4</td>\n",
       "      <td>7</td>\n",
       "      <td>29.0</td>\n",
       "      <td>196</td>\n",
       "      <td>1</td>\n",
       "      <td>1</td>\n",
       "      <td>...</td>\n",
       "      <td>Non-frequent customer</td>\n",
       "      <td>Linda</td>\n",
       "      <td>Nguyen</td>\n",
       "      <td>Female</td>\n",
       "      <td>Alabama</td>\n",
       "      <td>31</td>\n",
       "      <td>2/17/2019</td>\n",
       "      <td>3</td>\n",
       "      <td>married</td>\n",
       "      <td>40423</td>\n",
       "    </tr>\n",
       "    <tr>\n",
       "      <th>4</th>\n",
       "      <td>431534</td>\n",
       "      <td>1</td>\n",
       "      <td>prior</td>\n",
       "      <td>5</td>\n",
       "      <td>4</td>\n",
       "      <td>15</td>\n",
       "      <td>28.0</td>\n",
       "      <td>196</td>\n",
       "      <td>1</td>\n",
       "      <td>1</td>\n",
       "      <td>...</td>\n",
       "      <td>Non-frequent customer</td>\n",
       "      <td>Linda</td>\n",
       "      <td>Nguyen</td>\n",
       "      <td>Female</td>\n",
       "      <td>Alabama</td>\n",
       "      <td>31</td>\n",
       "      <td>2/17/2019</td>\n",
       "      <td>3</td>\n",
       "      <td>married</td>\n",
       "      <td>40423</td>\n",
       "    </tr>\n",
       "  </tbody>\n",
       "</table>\n",
       "<p>5 rows × 33 columns</p>\n",
       "</div>"
      ],
      "text/plain": [
       "   order_id  user_id eval_set  order_number  orders_day_of_week  \\\n",
       "0   2539329        1    prior             1                   2   \n",
       "1   2398795        1    prior             2                   3   \n",
       "2    473747        1    prior             3                   3   \n",
       "3   2254736        1    prior             4                   4   \n",
       "4    431534        1    prior             5                   4   \n",
       "\n",
       "   order_hour_of_day  days_since_prior_order  product_id  add_to_cart_order  \\\n",
       "0                  8                     NaN         196                  1   \n",
       "1                  7                    15.0         196                  1   \n",
       "2                 12                    21.0         196                  1   \n",
       "3                  7                    29.0         196                  1   \n",
       "4                 15                    28.0         196                  1   \n",
       "\n",
       "   reordered  ...   order_frequency_flag  first_name  last_name  gender  \\\n",
       "0          0  ...  Non-frequent customer       Linda     Nguyen  Female   \n",
       "1          1  ...  Non-frequent customer       Linda     Nguyen  Female   \n",
       "2          1  ...  Non-frequent customer       Linda     Nguyen  Female   \n",
       "3          1  ...  Non-frequent customer       Linda     Nguyen  Female   \n",
       "4          1  ...  Non-frequent customer       Linda     Nguyen  Female   \n",
       "\n",
       "     state age date_joined no_of_dependents  marital_status income  \n",
       "0  Alabama  31   2/17/2019                3         married  40423  \n",
       "1  Alabama  31   2/17/2019                3         married  40423  \n",
       "2  Alabama  31   2/17/2019                3         married  40423  \n",
       "3  Alabama  31   2/17/2019                3         married  40423  \n",
       "4  Alabama  31   2/17/2019                3         married  40423  \n",
       "\n",
       "[5 rows x 33 columns]"
      ]
     },
     "execution_count": 11,
     "metadata": {},
     "output_type": "execute_result"
    }
   ],
   "source": [
    "# checking data output\n",
    "df.head()"
   ]
  },
  {
   "cell_type": "markdown",
   "id": "f67bcab8",
   "metadata": {},
   "source": [
    "#3 Create a regional segmentation of the data. Q) Determine whether there is a difference in spending habits between the different US regions. A) The difference in low vs high spenders is about the same across all regions. "
   ]
  },
  {
   "cell_type": "code",
   "execution_count": 12,
   "id": "b8c69058",
   "metadata": {},
   "outputs": [],
   "source": [
    "# defining regions \n",
    "northeast=['Maine','New Hampshire','Vermont','Massachusetts','Rhode Island','Connecticut','New York','Pennsylvania','New Jersey']\n",
    "midwest=['Wisconsin','Michigan','Illinois','Indiana','Ohio','North Dakota','South Dakota','Nebraska','Kansas','Minnesota','Iowa','Missouri']\n",
    "south=['Delaware','Maryland','District of Columbia','Virginia','West Virginia','North Carolina','South Carolina','Georgia','Florida','Kentucky','Tennessee','Mississippi','Alabama','Oklahoma','Texas','Arkansas','Louisiana']\n",
    "west=['Idaho','Montana','Wyoming','Nevada','Utah','Colorado','Arizona','New Mexico','Alaska','Washington','Oregon','California','Hawaii']"
   ]
  },
  {
   "cell_type": "code",
   "execution_count": 13,
   "id": "c0e75fe6",
   "metadata": {},
   "outputs": [],
   "source": [
    "# creating an empty list and for loop logic\n",
    "result=[]\n",
    "\n",
    "for value in df['state']:\n",
    "    if value in northeast:\n",
    "        result.append('Northeast')\n",
    "    elif value in midwest:\n",
    "        result.append('Midwest')\n",
    "    elif value in south:\n",
    "        result.append('South')\n",
    "    elif value in west:\n",
    "        result.append('West')"
   ]
  },
  {
   "cell_type": "code",
   "execution_count": 15,
   "id": "947d960c",
   "metadata": {},
   "outputs": [],
   "source": [
    "# Creating the region column based on the for loop results\n",
    "df['regions']=result"
   ]
  },
  {
   "cell_type": "code",
   "execution_count": 16,
   "id": "9cfc6117",
   "metadata": {},
   "outputs": [
    {
     "data": {
      "text/plain": [
       "South        10801610\n",
       "West          8300445\n",
       "Midwest       7603810\n",
       "Northeast     5728347\n",
       "Name: regions, dtype: int64"
      ]
     },
     "execution_count": 16,
     "metadata": {},
     "output_type": "execute_result"
    }
   ],
   "source": [
    "# Checking value counts in the regions column\n",
    "df['regions'].value_counts()"
   ]
  },
  {
   "cell_type": "code",
   "execution_count": 17,
   "id": "aa736c8a",
   "metadata": {},
   "outputs": [
    {
     "data": {
      "text/plain": [
       "32434212"
      ]
     },
     "execution_count": 17,
     "metadata": {},
     "output_type": "execute_result"
    }
   ],
   "source": [
    "# Checking that the regions column is the same length as the rest of the data frame\n",
    "len(df['regions'])"
   ]
  },
  {
   "cell_type": "code",
   "execution_count": 18,
   "id": "e3bc9849",
   "metadata": {},
   "outputs": [
    {
     "data": {
      "text/html": [
       "<div>\n",
       "<style scoped>\n",
       "    .dataframe tbody tr th:only-of-type {\n",
       "        vertical-align: middle;\n",
       "    }\n",
       "\n",
       "    .dataframe tbody tr th {\n",
       "        vertical-align: top;\n",
       "    }\n",
       "\n",
       "    .dataframe thead th {\n",
       "        text-align: right;\n",
       "    }\n",
       "</style>\n",
       "<table border=\"1\" class=\"dataframe\">\n",
       "  <thead>\n",
       "    <tr style=\"text-align: right;\">\n",
       "      <th></th>\n",
       "      <th>order_id</th>\n",
       "      <th>user_id</th>\n",
       "      <th>eval_set</th>\n",
       "      <th>order_number</th>\n",
       "      <th>orders_day_of_week</th>\n",
       "      <th>order_hour_of_day</th>\n",
       "      <th>days_since_prior_order</th>\n",
       "      <th>product_id</th>\n",
       "      <th>add_to_cart_order</th>\n",
       "      <th>reordered</th>\n",
       "      <th>...</th>\n",
       "      <th>first_name</th>\n",
       "      <th>last_name</th>\n",
       "      <th>gender</th>\n",
       "      <th>state</th>\n",
       "      <th>age</th>\n",
       "      <th>date_joined</th>\n",
       "      <th>no_of_dependents</th>\n",
       "      <th>marital_status</th>\n",
       "      <th>income</th>\n",
       "      <th>regions</th>\n",
       "    </tr>\n",
       "  </thead>\n",
       "  <tbody>\n",
       "    <tr>\n",
       "      <th>0</th>\n",
       "      <td>2539329</td>\n",
       "      <td>1</td>\n",
       "      <td>prior</td>\n",
       "      <td>1</td>\n",
       "      <td>2</td>\n",
       "      <td>8</td>\n",
       "      <td>NaN</td>\n",
       "      <td>196</td>\n",
       "      <td>1</td>\n",
       "      <td>0</td>\n",
       "      <td>...</td>\n",
       "      <td>Linda</td>\n",
       "      <td>Nguyen</td>\n",
       "      <td>Female</td>\n",
       "      <td>Alabama</td>\n",
       "      <td>31</td>\n",
       "      <td>2/17/2019</td>\n",
       "      <td>3</td>\n",
       "      <td>married</td>\n",
       "      <td>40423</td>\n",
       "      <td>South</td>\n",
       "    </tr>\n",
       "    <tr>\n",
       "      <th>1</th>\n",
       "      <td>2398795</td>\n",
       "      <td>1</td>\n",
       "      <td>prior</td>\n",
       "      <td>2</td>\n",
       "      <td>3</td>\n",
       "      <td>7</td>\n",
       "      <td>15.0</td>\n",
       "      <td>196</td>\n",
       "      <td>1</td>\n",
       "      <td>1</td>\n",
       "      <td>...</td>\n",
       "      <td>Linda</td>\n",
       "      <td>Nguyen</td>\n",
       "      <td>Female</td>\n",
       "      <td>Alabama</td>\n",
       "      <td>31</td>\n",
       "      <td>2/17/2019</td>\n",
       "      <td>3</td>\n",
       "      <td>married</td>\n",
       "      <td>40423</td>\n",
       "      <td>South</td>\n",
       "    </tr>\n",
       "    <tr>\n",
       "      <th>2</th>\n",
       "      <td>473747</td>\n",
       "      <td>1</td>\n",
       "      <td>prior</td>\n",
       "      <td>3</td>\n",
       "      <td>3</td>\n",
       "      <td>12</td>\n",
       "      <td>21.0</td>\n",
       "      <td>196</td>\n",
       "      <td>1</td>\n",
       "      <td>1</td>\n",
       "      <td>...</td>\n",
       "      <td>Linda</td>\n",
       "      <td>Nguyen</td>\n",
       "      <td>Female</td>\n",
       "      <td>Alabama</td>\n",
       "      <td>31</td>\n",
       "      <td>2/17/2019</td>\n",
       "      <td>3</td>\n",
       "      <td>married</td>\n",
       "      <td>40423</td>\n",
       "      <td>South</td>\n",
       "    </tr>\n",
       "    <tr>\n",
       "      <th>3</th>\n",
       "      <td>2254736</td>\n",
       "      <td>1</td>\n",
       "      <td>prior</td>\n",
       "      <td>4</td>\n",
       "      <td>4</td>\n",
       "      <td>7</td>\n",
       "      <td>29.0</td>\n",
       "      <td>196</td>\n",
       "      <td>1</td>\n",
       "      <td>1</td>\n",
       "      <td>...</td>\n",
       "      <td>Linda</td>\n",
       "      <td>Nguyen</td>\n",
       "      <td>Female</td>\n",
       "      <td>Alabama</td>\n",
       "      <td>31</td>\n",
       "      <td>2/17/2019</td>\n",
       "      <td>3</td>\n",
       "      <td>married</td>\n",
       "      <td>40423</td>\n",
       "      <td>South</td>\n",
       "    </tr>\n",
       "    <tr>\n",
       "      <th>4</th>\n",
       "      <td>431534</td>\n",
       "      <td>1</td>\n",
       "      <td>prior</td>\n",
       "      <td>5</td>\n",
       "      <td>4</td>\n",
       "      <td>15</td>\n",
       "      <td>28.0</td>\n",
       "      <td>196</td>\n",
       "      <td>1</td>\n",
       "      <td>1</td>\n",
       "      <td>...</td>\n",
       "      <td>Linda</td>\n",
       "      <td>Nguyen</td>\n",
       "      <td>Female</td>\n",
       "      <td>Alabama</td>\n",
       "      <td>31</td>\n",
       "      <td>2/17/2019</td>\n",
       "      <td>3</td>\n",
       "      <td>married</td>\n",
       "      <td>40423</td>\n",
       "      <td>South</td>\n",
       "    </tr>\n",
       "  </tbody>\n",
       "</table>\n",
       "<p>5 rows × 34 columns</p>\n",
       "</div>"
      ],
      "text/plain": [
       "   order_id  user_id eval_set  order_number  orders_day_of_week  \\\n",
       "0   2539329        1    prior             1                   2   \n",
       "1   2398795        1    prior             2                   3   \n",
       "2    473747        1    prior             3                   3   \n",
       "3   2254736        1    prior             4                   4   \n",
       "4    431534        1    prior             5                   4   \n",
       "\n",
       "   order_hour_of_day  days_since_prior_order  product_id  add_to_cart_order  \\\n",
       "0                  8                     NaN         196                  1   \n",
       "1                  7                    15.0         196                  1   \n",
       "2                 12                    21.0         196                  1   \n",
       "3                  7                    29.0         196                  1   \n",
       "4                 15                    28.0         196                  1   \n",
       "\n",
       "   reordered  ... first_name  last_name  gender    state age date_joined  \\\n",
       "0          0  ...      Linda     Nguyen  Female  Alabama  31   2/17/2019   \n",
       "1          1  ...      Linda     Nguyen  Female  Alabama  31   2/17/2019   \n",
       "2          1  ...      Linda     Nguyen  Female  Alabama  31   2/17/2019   \n",
       "3          1  ...      Linda     Nguyen  Female  Alabama  31   2/17/2019   \n",
       "4          1  ...      Linda     Nguyen  Female  Alabama  31   2/17/2019   \n",
       "\n",
       "  no_of_dependents marital_status  income regions  \n",
       "0                3        married   40423   South  \n",
       "1                3        married   40423   South  \n",
       "2                3        married   40423   South  \n",
       "3                3        married   40423   South  \n",
       "4                3        married   40423   South  \n",
       "\n",
       "[5 rows x 34 columns]"
      ]
     },
     "execution_count": 18,
     "metadata": {},
     "output_type": "execute_result"
    }
   ],
   "source": [
    "df.head()"
   ]
  },
  {
   "cell_type": "code",
   "execution_count": 19,
   "id": "6fbf8209",
   "metadata": {},
   "outputs": [],
   "source": [
    "# Creating a crosstab to determine difference in spending power across regions\n",
    "crosstab=pd.crosstab(df['regions'],df['spending_flag'],dropna=False)"
   ]
  },
  {
   "cell_type": "code",
   "execution_count": 20,
   "id": "b831a221",
   "metadata": {},
   "outputs": [],
   "source": [
    "crosstab.to_clipboard()"
   ]
  },
  {
   "cell_type": "code",
   "execution_count": 21,
   "id": "a40948a4",
   "metadata": {},
   "outputs": [
    {
     "data": {
      "text/html": [
       "<div>\n",
       "<style scoped>\n",
       "    .dataframe tbody tr th:only-of-type {\n",
       "        vertical-align: middle;\n",
       "    }\n",
       "\n",
       "    .dataframe tbody tr th {\n",
       "        vertical-align: top;\n",
       "    }\n",
       "\n",
       "    .dataframe thead th {\n",
       "        text-align: right;\n",
       "    }\n",
       "</style>\n",
       "<table border=\"1\" class=\"dataframe\">\n",
       "  <thead>\n",
       "    <tr style=\"text-align: right;\">\n",
       "      <th>spending_flag</th>\n",
       "      <th>High spender</th>\n",
       "      <th>Low spender</th>\n",
       "    </tr>\n",
       "    <tr>\n",
       "      <th>regions</th>\n",
       "      <th></th>\n",
       "      <th></th>\n",
       "    </tr>\n",
       "  </thead>\n",
       "  <tbody>\n",
       "    <tr>\n",
       "      <th>Midwest</th>\n",
       "      <td>156129</td>\n",
       "      <td>7447681</td>\n",
       "    </tr>\n",
       "    <tr>\n",
       "      <th>Northeast</th>\n",
       "      <td>108343</td>\n",
       "      <td>5620004</td>\n",
       "    </tr>\n",
       "    <tr>\n",
       "      <th>South</th>\n",
       "      <td>210182</td>\n",
       "      <td>10591428</td>\n",
       "    </tr>\n",
       "    <tr>\n",
       "      <th>West</th>\n",
       "      <td>160807</td>\n",
       "      <td>8139638</td>\n",
       "    </tr>\n",
       "  </tbody>\n",
       "</table>\n",
       "</div>"
      ],
      "text/plain": [
       "spending_flag  High spender  Low spender\n",
       "regions                                 \n",
       "Midwest              156129      7447681\n",
       "Northeast            108343      5620004\n",
       "South                210182     10591428\n",
       "West                 160807      8139638"
      ]
     },
     "execution_count": 21,
     "metadata": {},
     "output_type": "execute_result"
    }
   ],
   "source": [
    "crosstab"
   ]
  },
  {
   "cell_type": "markdown",
   "id": "a3e1a826",
   "metadata": {},
   "source": [
    "#4 Create an exclusion flag for low activity customers and exclude"
   ]
  },
  {
   "cell_type": "code",
   "execution_count": 22,
   "id": "d86e27d1",
   "metadata": {},
   "outputs": [],
   "source": [
    "# Creating an activity flag based on max_order\n",
    "df.loc[df['max_order']>=5,'activity']='normal'\n",
    "df.loc[df['max_order']<5,'activity']='low'"
   ]
  },
  {
   "cell_type": "code",
   "execution_count": 23,
   "id": "88f2b10c",
   "metadata": {},
   "outputs": [
    {
     "data": {
      "text/plain": [
       "normal    30992664\n",
       "low        1441548\n",
       "Name: activity, dtype: int64"
      ]
     },
     "execution_count": 23,
     "metadata": {},
     "output_type": "execute_result"
    }
   ],
   "source": [
    "# Checking the value counts in the activity flag column\n",
    "df['activity'].value_counts()"
   ]
  },
  {
   "cell_type": "code",
   "execution_count": 24,
   "id": "cf71502d",
   "metadata": {},
   "outputs": [
    {
     "data": {
      "text/plain": [
       "32434212"
      ]
     },
     "execution_count": 24,
     "metadata": {},
     "output_type": "execute_result"
    }
   ],
   "source": [
    "# Checking that the length of the activity column matches the dataframe\n",
    "len(df['activity'])"
   ]
  },
  {
   "cell_type": "code",
   "execution_count": 25,
   "id": "72d12dbe",
   "metadata": {},
   "outputs": [],
   "source": [
    "# To create a dataframe containing only low activity customers\n",
    "df_low=df[df['activity']=='low']"
   ]
  },
  {
   "cell_type": "code",
   "execution_count": 26,
   "id": "cc4b86ec",
   "metadata": {},
   "outputs": [
    {
     "data": {
      "text/html": [
       "<div>\n",
       "<style scoped>\n",
       "    .dataframe tbody tr th:only-of-type {\n",
       "        vertical-align: middle;\n",
       "    }\n",
       "\n",
       "    .dataframe tbody tr th {\n",
       "        vertical-align: top;\n",
       "    }\n",
       "\n",
       "    .dataframe thead th {\n",
       "        text-align: right;\n",
       "    }\n",
       "</style>\n",
       "<table border=\"1\" class=\"dataframe\">\n",
       "  <thead>\n",
       "    <tr style=\"text-align: right;\">\n",
       "      <th></th>\n",
       "      <th>order_id</th>\n",
       "      <th>user_id</th>\n",
       "      <th>eval_set</th>\n",
       "      <th>order_number</th>\n",
       "      <th>orders_day_of_week</th>\n",
       "      <th>order_hour_of_day</th>\n",
       "      <th>days_since_prior_order</th>\n",
       "      <th>product_id</th>\n",
       "      <th>add_to_cart_order</th>\n",
       "      <th>reordered</th>\n",
       "      <th>...</th>\n",
       "      <th>last_name</th>\n",
       "      <th>gender</th>\n",
       "      <th>state</th>\n",
       "      <th>age</th>\n",
       "      <th>date_joined</th>\n",
       "      <th>no_of_dependents</th>\n",
       "      <th>marital_status</th>\n",
       "      <th>income</th>\n",
       "      <th>regions</th>\n",
       "      <th>activity</th>\n",
       "    </tr>\n",
       "  </thead>\n",
       "  <tbody>\n",
       "    <tr>\n",
       "      <th>1513</th>\n",
       "      <td>520620</td>\n",
       "      <td>120</td>\n",
       "      <td>prior</td>\n",
       "      <td>1</td>\n",
       "      <td>3</td>\n",
       "      <td>11</td>\n",
       "      <td>NaN</td>\n",
       "      <td>196</td>\n",
       "      <td>2</td>\n",
       "      <td>0</td>\n",
       "      <td>...</td>\n",
       "      <td>Rich</td>\n",
       "      <td>Female</td>\n",
       "      <td>Kentucky</td>\n",
       "      <td>54</td>\n",
       "      <td>3/2/2017</td>\n",
       "      <td>2</td>\n",
       "      <td>married</td>\n",
       "      <td>99219</td>\n",
       "      <td>South</td>\n",
       "      <td>low</td>\n",
       "    </tr>\n",
       "    <tr>\n",
       "      <th>1514</th>\n",
       "      <td>3273029</td>\n",
       "      <td>120</td>\n",
       "      <td>prior</td>\n",
       "      <td>3</td>\n",
       "      <td>2</td>\n",
       "      <td>8</td>\n",
       "      <td>19.0</td>\n",
       "      <td>196</td>\n",
       "      <td>2</td>\n",
       "      <td>1</td>\n",
       "      <td>...</td>\n",
       "      <td>Rich</td>\n",
       "      <td>Female</td>\n",
       "      <td>Kentucky</td>\n",
       "      <td>54</td>\n",
       "      <td>3/2/2017</td>\n",
       "      <td>2</td>\n",
       "      <td>married</td>\n",
       "      <td>99219</td>\n",
       "      <td>South</td>\n",
       "      <td>low</td>\n",
       "    </tr>\n",
       "    <tr>\n",
       "      <th>1515</th>\n",
       "      <td>520620</td>\n",
       "      <td>120</td>\n",
       "      <td>prior</td>\n",
       "      <td>1</td>\n",
       "      <td>3</td>\n",
       "      <td>11</td>\n",
       "      <td>NaN</td>\n",
       "      <td>46149</td>\n",
       "      <td>1</td>\n",
       "      <td>0</td>\n",
       "      <td>...</td>\n",
       "      <td>Rich</td>\n",
       "      <td>Female</td>\n",
       "      <td>Kentucky</td>\n",
       "      <td>54</td>\n",
       "      <td>3/2/2017</td>\n",
       "      <td>2</td>\n",
       "      <td>married</td>\n",
       "      <td>99219</td>\n",
       "      <td>South</td>\n",
       "      <td>low</td>\n",
       "    </tr>\n",
       "    <tr>\n",
       "      <th>1516</th>\n",
       "      <td>3273029</td>\n",
       "      <td>120</td>\n",
       "      <td>prior</td>\n",
       "      <td>3</td>\n",
       "      <td>2</td>\n",
       "      <td>8</td>\n",
       "      <td>19.0</td>\n",
       "      <td>46149</td>\n",
       "      <td>1</td>\n",
       "      <td>1</td>\n",
       "      <td>...</td>\n",
       "      <td>Rich</td>\n",
       "      <td>Female</td>\n",
       "      <td>Kentucky</td>\n",
       "      <td>54</td>\n",
       "      <td>3/2/2017</td>\n",
       "      <td>2</td>\n",
       "      <td>married</td>\n",
       "      <td>99219</td>\n",
       "      <td>South</td>\n",
       "      <td>low</td>\n",
       "    </tr>\n",
       "    <tr>\n",
       "      <th>1517</th>\n",
       "      <td>520620</td>\n",
       "      <td>120</td>\n",
       "      <td>prior</td>\n",
       "      <td>1</td>\n",
       "      <td>3</td>\n",
       "      <td>11</td>\n",
       "      <td>NaN</td>\n",
       "      <td>26348</td>\n",
       "      <td>3</td>\n",
       "      <td>0</td>\n",
       "      <td>...</td>\n",
       "      <td>Rich</td>\n",
       "      <td>Female</td>\n",
       "      <td>Kentucky</td>\n",
       "      <td>54</td>\n",
       "      <td>3/2/2017</td>\n",
       "      <td>2</td>\n",
       "      <td>married</td>\n",
       "      <td>99219</td>\n",
       "      <td>South</td>\n",
       "      <td>low</td>\n",
       "    </tr>\n",
       "  </tbody>\n",
       "</table>\n",
       "<p>5 rows × 35 columns</p>\n",
       "</div>"
      ],
      "text/plain": [
       "      order_id  user_id eval_set  order_number  orders_day_of_week  \\\n",
       "1513    520620      120    prior             1                   3   \n",
       "1514   3273029      120    prior             3                   2   \n",
       "1515    520620      120    prior             1                   3   \n",
       "1516   3273029      120    prior             3                   2   \n",
       "1517    520620      120    prior             1                   3   \n",
       "\n",
       "      order_hour_of_day  days_since_prior_order  product_id  \\\n",
       "1513                 11                     NaN         196   \n",
       "1514                  8                    19.0         196   \n",
       "1515                 11                     NaN       46149   \n",
       "1516                  8                    19.0       46149   \n",
       "1517                 11                     NaN       26348   \n",
       "\n",
       "      add_to_cart_order  reordered  ... last_name  gender     state  age  \\\n",
       "1513                  2          0  ...      Rich  Female  Kentucky   54   \n",
       "1514                  2          1  ...      Rich  Female  Kentucky   54   \n",
       "1515                  1          0  ...      Rich  Female  Kentucky   54   \n",
       "1516                  1          1  ...      Rich  Female  Kentucky   54   \n",
       "1517                  3          0  ...      Rich  Female  Kentucky   54   \n",
       "\n",
       "     date_joined no_of_dependents marital_status income  regions activity  \n",
       "1513    3/2/2017                2        married  99219    South      low  \n",
       "1514    3/2/2017                2        married  99219    South      low  \n",
       "1515    3/2/2017                2        married  99219    South      low  \n",
       "1516    3/2/2017                2        married  99219    South      low  \n",
       "1517    3/2/2017                2        married  99219    South      low  \n",
       "\n",
       "[5 rows x 35 columns]"
      ]
     },
     "execution_count": 26,
     "metadata": {},
     "output_type": "execute_result"
    }
   ],
   "source": [
    "df_low.head()"
   ]
  },
  {
   "cell_type": "code",
   "execution_count": 27,
   "id": "a6daf3c7",
   "metadata": {},
   "outputs": [
    {
     "data": {
      "text/plain": [
       "(1441548, 35)"
      ]
     },
     "execution_count": 27,
     "metadata": {},
     "output_type": "execute_result"
    }
   ],
   "source": [
    "df_low.shape"
   ]
  },
  {
   "cell_type": "code",
   "execution_count": 29,
   "id": "7f5d465d",
   "metadata": {},
   "outputs": [],
   "source": [
    "# Exporting low activity sample as a pkl file\n",
    "df_low.to_pickle(os.path.join(path,'Prepared Data 4.10','low_activity_user_data.pkl'))"
   ]
  },
  {
   "cell_type": "code",
   "execution_count": 30,
   "id": "dac8dd53",
   "metadata": {},
   "outputs": [],
   "source": [
    "# Creating a dataframe with only normal activity customers\n",
    "df2=df[df['activity']=='normal']"
   ]
  },
  {
   "cell_type": "code",
   "execution_count": 31,
   "id": "85340478",
   "metadata": {},
   "outputs": [
    {
     "data": {
      "text/html": [
       "<div>\n",
       "<style scoped>\n",
       "    .dataframe tbody tr th:only-of-type {\n",
       "        vertical-align: middle;\n",
       "    }\n",
       "\n",
       "    .dataframe tbody tr th {\n",
       "        vertical-align: top;\n",
       "    }\n",
       "\n",
       "    .dataframe thead th {\n",
       "        text-align: right;\n",
       "    }\n",
       "</style>\n",
       "<table border=\"1\" class=\"dataframe\">\n",
       "  <thead>\n",
       "    <tr style=\"text-align: right;\">\n",
       "      <th></th>\n",
       "      <th>order_id</th>\n",
       "      <th>user_id</th>\n",
       "      <th>eval_set</th>\n",
       "      <th>order_number</th>\n",
       "      <th>orders_day_of_week</th>\n",
       "      <th>order_hour_of_day</th>\n",
       "      <th>days_since_prior_order</th>\n",
       "      <th>product_id</th>\n",
       "      <th>add_to_cart_order</th>\n",
       "      <th>reordered</th>\n",
       "      <th>...</th>\n",
       "      <th>last_name</th>\n",
       "      <th>gender</th>\n",
       "      <th>state</th>\n",
       "      <th>age</th>\n",
       "      <th>date_joined</th>\n",
       "      <th>no_of_dependents</th>\n",
       "      <th>marital_status</th>\n",
       "      <th>income</th>\n",
       "      <th>regions</th>\n",
       "      <th>activity</th>\n",
       "    </tr>\n",
       "  </thead>\n",
       "  <tbody>\n",
       "    <tr>\n",
       "      <th>0</th>\n",
       "      <td>2539329</td>\n",
       "      <td>1</td>\n",
       "      <td>prior</td>\n",
       "      <td>1</td>\n",
       "      <td>2</td>\n",
       "      <td>8</td>\n",
       "      <td>NaN</td>\n",
       "      <td>196</td>\n",
       "      <td>1</td>\n",
       "      <td>0</td>\n",
       "      <td>...</td>\n",
       "      <td>Nguyen</td>\n",
       "      <td>Female</td>\n",
       "      <td>Alabama</td>\n",
       "      <td>31</td>\n",
       "      <td>2/17/2019</td>\n",
       "      <td>3</td>\n",
       "      <td>married</td>\n",
       "      <td>40423</td>\n",
       "      <td>South</td>\n",
       "      <td>normal</td>\n",
       "    </tr>\n",
       "    <tr>\n",
       "      <th>1</th>\n",
       "      <td>2398795</td>\n",
       "      <td>1</td>\n",
       "      <td>prior</td>\n",
       "      <td>2</td>\n",
       "      <td>3</td>\n",
       "      <td>7</td>\n",
       "      <td>15.0</td>\n",
       "      <td>196</td>\n",
       "      <td>1</td>\n",
       "      <td>1</td>\n",
       "      <td>...</td>\n",
       "      <td>Nguyen</td>\n",
       "      <td>Female</td>\n",
       "      <td>Alabama</td>\n",
       "      <td>31</td>\n",
       "      <td>2/17/2019</td>\n",
       "      <td>3</td>\n",
       "      <td>married</td>\n",
       "      <td>40423</td>\n",
       "      <td>South</td>\n",
       "      <td>normal</td>\n",
       "    </tr>\n",
       "    <tr>\n",
       "      <th>2</th>\n",
       "      <td>473747</td>\n",
       "      <td>1</td>\n",
       "      <td>prior</td>\n",
       "      <td>3</td>\n",
       "      <td>3</td>\n",
       "      <td>12</td>\n",
       "      <td>21.0</td>\n",
       "      <td>196</td>\n",
       "      <td>1</td>\n",
       "      <td>1</td>\n",
       "      <td>...</td>\n",
       "      <td>Nguyen</td>\n",
       "      <td>Female</td>\n",
       "      <td>Alabama</td>\n",
       "      <td>31</td>\n",
       "      <td>2/17/2019</td>\n",
       "      <td>3</td>\n",
       "      <td>married</td>\n",
       "      <td>40423</td>\n",
       "      <td>South</td>\n",
       "      <td>normal</td>\n",
       "    </tr>\n",
       "    <tr>\n",
       "      <th>3</th>\n",
       "      <td>2254736</td>\n",
       "      <td>1</td>\n",
       "      <td>prior</td>\n",
       "      <td>4</td>\n",
       "      <td>4</td>\n",
       "      <td>7</td>\n",
       "      <td>29.0</td>\n",
       "      <td>196</td>\n",
       "      <td>1</td>\n",
       "      <td>1</td>\n",
       "      <td>...</td>\n",
       "      <td>Nguyen</td>\n",
       "      <td>Female</td>\n",
       "      <td>Alabama</td>\n",
       "      <td>31</td>\n",
       "      <td>2/17/2019</td>\n",
       "      <td>3</td>\n",
       "      <td>married</td>\n",
       "      <td>40423</td>\n",
       "      <td>South</td>\n",
       "      <td>normal</td>\n",
       "    </tr>\n",
       "    <tr>\n",
       "      <th>4</th>\n",
       "      <td>431534</td>\n",
       "      <td>1</td>\n",
       "      <td>prior</td>\n",
       "      <td>5</td>\n",
       "      <td>4</td>\n",
       "      <td>15</td>\n",
       "      <td>28.0</td>\n",
       "      <td>196</td>\n",
       "      <td>1</td>\n",
       "      <td>1</td>\n",
       "      <td>...</td>\n",
       "      <td>Nguyen</td>\n",
       "      <td>Female</td>\n",
       "      <td>Alabama</td>\n",
       "      <td>31</td>\n",
       "      <td>2/17/2019</td>\n",
       "      <td>3</td>\n",
       "      <td>married</td>\n",
       "      <td>40423</td>\n",
       "      <td>South</td>\n",
       "      <td>normal</td>\n",
       "    </tr>\n",
       "  </tbody>\n",
       "</table>\n",
       "<p>5 rows × 35 columns</p>\n",
       "</div>"
      ],
      "text/plain": [
       "   order_id  user_id eval_set  order_number  orders_day_of_week  \\\n",
       "0   2539329        1    prior             1                   2   \n",
       "1   2398795        1    prior             2                   3   \n",
       "2    473747        1    prior             3                   3   \n",
       "3   2254736        1    prior             4                   4   \n",
       "4    431534        1    prior             5                   4   \n",
       "\n",
       "   order_hour_of_day  days_since_prior_order  product_id  add_to_cart_order  \\\n",
       "0                  8                     NaN         196                  1   \n",
       "1                  7                    15.0         196                  1   \n",
       "2                 12                    21.0         196                  1   \n",
       "3                  7                    29.0         196                  1   \n",
       "4                 15                    28.0         196                  1   \n",
       "\n",
       "   reordered  ... last_name  gender    state  age date_joined  \\\n",
       "0          0  ...    Nguyen  Female  Alabama   31   2/17/2019   \n",
       "1          1  ...    Nguyen  Female  Alabama   31   2/17/2019   \n",
       "2          1  ...    Nguyen  Female  Alabama   31   2/17/2019   \n",
       "3          1  ...    Nguyen  Female  Alabama   31   2/17/2019   \n",
       "4          1  ...    Nguyen  Female  Alabama   31   2/17/2019   \n",
       "\n",
       "  no_of_dependents marital_status income  regions activity  \n",
       "0                3        married  40423    South   normal  \n",
       "1                3        married  40423    South   normal  \n",
       "2                3        married  40423    South   normal  \n",
       "3                3        married  40423    South   normal  \n",
       "4                3        married  40423    South   normal  \n",
       "\n",
       "[5 rows x 35 columns]"
      ]
     },
     "execution_count": 31,
     "metadata": {},
     "output_type": "execute_result"
    }
   ],
   "source": [
    "df2.head()"
   ]
  },
  {
   "cell_type": "code",
   "execution_count": 32,
   "id": "b2e8ea61",
   "metadata": {},
   "outputs": [
    {
     "data": {
      "text/plain": [
       "(30992664, 35)"
      ]
     },
     "execution_count": 32,
     "metadata": {},
     "output_type": "execute_result"
    }
   ],
   "source": [
    "df2.shape"
   ]
  },
  {
   "cell_type": "markdown",
   "id": "c76d16ed",
   "metadata": {},
   "source": [
    "#5 Creating a profiling variables "
   ]
  },
  {
   "cell_type": "code",
   "execution_count": 33,
   "id": "e22dedb3",
   "metadata": {},
   "outputs": [
    {
     "data": {
      "text/plain": [
       "Index(['order_id', 'user_id', 'eval_set', 'order_number', 'orders_day_of_week',\n",
       "       'order_hour_of_day', 'days_since_prior_order', 'product_id',\n",
       "       'add_to_cart_order', 'reordered', 'product_name', 'aisle_id',\n",
       "       'department_id', 'prices', 'price_range_loc', 'busiest_day',\n",
       "       'busiest_days', 'busiest_period_of_day', 'max_order', 'loyalty_flag',\n",
       "       'average_price', 'spending_flag', 'median_order_frequency',\n",
       "       'order_frequency_flag', 'first_name', 'last_name', 'gender', 'state',\n",
       "       'age', 'date_joined', 'no_of_dependents', 'marital_status', 'income',\n",
       "       'regions', 'activity'],\n",
       "      dtype='object')"
      ]
     },
     "execution_count": 33,
     "metadata": {},
     "output_type": "execute_result"
    }
   ],
   "source": [
    "df2.columns"
   ]
  },
  {
   "cell_type": "code",
   "execution_count": 36,
   "id": "d63d50ee",
   "metadata": {},
   "outputs": [],
   "source": [
    "#Family Status\n",
    "\n",
    "# Creating a family status flag to find parents of young children, parents of older children, and people with no children\n",
    "# Department id # 18 is designated 'babies' and will be used here to identify families with young children\n",
    "df2.loc[(df['department_id']==18)&(df['no_of_dependents']>0),'family_status']='family with young children'\n",
    "df2.loc[(df['department_id']!=18)&(df['no_of_dependents']>0),'family_status']='family with older children'\n",
    "df2.loc[df['no_of_dependents']==0,'family_status']='no children'"
   ]
  },
  {
   "cell_type": "code",
   "execution_count": 37,
   "id": "a28dc2a4",
   "metadata": {},
   "outputs": [
    {
     "data": {
      "text/plain": [
       "family with older children    22938568\n",
       "no children                    7747032\n",
       "family with young children      307064\n",
       "Name: family_status, dtype: int64"
      ]
     },
     "execution_count": 37,
     "metadata": {},
     "output_type": "execute_result"
    }
   ],
   "source": [
    "df2['family_status'].value_counts()"
   ]
  },
  {
   "cell_type": "code",
   "execution_count": 38,
   "id": "8fd4901c",
   "metadata": {},
   "outputs": [
    {
     "data": {
      "text/plain": [
       "30992664"
      ]
     },
     "execution_count": 38,
     "metadata": {},
     "output_type": "execute_result"
    }
   ],
   "source": [
    "len(df2['family_status'])"
   ]
  },
  {
   "cell_type": "code",
   "execution_count": 39,
   "id": "0e75f38f",
   "metadata": {},
   "outputs": [
    {
     "data": {
      "text/plain": [
       "30992664"
      ]
     },
     "execution_count": 39,
     "metadata": {},
     "output_type": "execute_result"
    }
   ],
   "source": [
    "len(df2)"
   ]
  },
  {
   "cell_type": "code",
   "execution_count": 40,
   "id": "badbe90f",
   "metadata": {},
   "outputs": [],
   "source": [
    "#Vegan Status \n",
    "\n",
    "# Creating logic for a vegan flag\n",
    "# Department numbers 12, 16 and 20 are meat and seafood, dairy and eggs, and deli respectively and are not vegan\n",
    "result=[]\n",
    "\n",
    "for value in df2['department_id']:\n",
    "    if value in (12,16,20):\n",
    "        result.append('not vegan')\n",
    "    else:\n",
    "        result.append('vegan')"
   ]
  },
  {
   "cell_type": "code",
   "execution_count": 50,
   "id": "3ec424da",
   "metadata": {
    "scrolled": true
   },
   "outputs": [
    {
     "name": "stderr",
     "output_type": "stream",
     "text": [
      "/var/folders/dp/hgd07ff102g9k5vqs2psn8_40000gn/T/ipykernel_2269/2869749955.py:1: SettingWithCopyWarning: \n",
      "A value is trying to be set on a copy of a slice from a DataFrame.\n",
      "Try using .loc[row_indexer,col_indexer] = value instead\n",
      "\n",
      "See the caveats in the documentation: https://pandas.pydata.org/pandas-docs/stable/user_guide/indexing.html#returning-a-view-versus-a-copy\n",
      "  df2['vegan_status']=result\n"
     ]
    }
   ],
   "source": [
    "df2['vegan_status']=result"
   ]
  },
  {
   "cell_type": "code",
   "execution_count": 43,
   "id": "534d834d",
   "metadata": {},
   "outputs": [
    {
     "data": {
      "text/plain": [
       "30992664"
      ]
     },
     "execution_count": 43,
     "metadata": {},
     "output_type": "execute_result"
    }
   ],
   "source": [
    "len(df2['vegan_status'])"
   ]
  },
  {
   "cell_type": "code",
   "execution_count": 44,
   "id": "3ab621e3",
   "metadata": {},
   "outputs": [
    {
     "data": {
      "text/plain": [
       "vegan        24122217\n",
       "not vegan     6870447\n",
       "Name: vegan_status, dtype: int64"
      ]
     },
     "execution_count": 44,
     "metadata": {},
     "output_type": "execute_result"
    }
   ],
   "source": [
    "df2['vegan_status'].value_counts()"
   ]
  },
  {
   "cell_type": "code",
   "execution_count": 49,
   "id": "1cfef6b8",
   "metadata": {},
   "outputs": [],
   "source": [
    "#Age Categories\n",
    "\n",
    "# To create a column grouping age into categories\n",
    "df2.loc[(df2['age']>=18)&(df2['age']<=29),'age_category']='college age'\n",
    "df2.loc[(df2['age']>=30)&(df2['age']<=39),'age_category']='young adult'\n",
    "df2.loc[(df2['age']>=40)&(df2['age']<=49),'age_category']='middle age adult'\n",
    "df2.loc[(df2['age']>=50)&(df2['age']<=59),'age_category']='late career adult'\n",
    "df2.loc[df2['age']>60,'age_category']='senior'"
   ]
  },
  {
   "cell_type": "code",
   "execution_count": 47,
   "id": "d559249e",
   "metadata": {},
   "outputs": [
    {
     "data": {
      "text/plain": [
       "30992664"
      ]
     },
     "execution_count": 47,
     "metadata": {},
     "output_type": "execute_result"
    }
   ],
   "source": [
    "len(df2['age_category'])"
   ]
  },
  {
   "cell_type": "code",
   "execution_count": 48,
   "id": "52060941",
   "metadata": {},
   "outputs": [
    {
     "data": {
      "text/plain": [
       "senior               10121613\n",
       "college age           5823021\n",
       "middle age adult      4887575\n",
       "young adult           4851629\n",
       "late career adult     4846498\n",
       "Name: age_category, dtype: int64"
      ]
     },
     "execution_count": 48,
     "metadata": {},
     "output_type": "execute_result"
    }
   ],
   "source": [
    "df2['age_category'].value_counts()"
   ]
  },
  {
   "cell_type": "markdown",
   "id": "6c05fce7",
   "metadata": {},
   "source": [
    "#6 Aggregating and Grouping"
   ]
  },
  {
   "cell_type": "code",
   "execution_count": 61,
   "id": "4e0952f2",
   "metadata": {
    "scrolled": true
   },
   "outputs": [
    {
     "name": "stderr",
     "output_type": "stream",
     "text": [
      "/var/folders/dp/hgd07ff102g9k5vqs2psn8_40000gn/T/ipykernel_2269/3211801858.py:3: SettingWithCopyWarning: \n",
      "A value is trying to be set on a copy of a slice from a DataFrame.\n",
      "Try using .loc[row_indexer,col_indexer] = value instead\n",
      "\n",
      "See the caveats in the documentation: https://pandas.pydata.org/pandas-docs/stable/user_guide/indexing.html#returning-a-view-versus-a-copy\n",
      "  df2['min_usage_frequency']=df2.groupby(['user_id'])['days_since_prior_order'].transform(np.max)\n"
     ]
    }
   ],
   "source": [
    "# Creating a min_useage_frequency column based on days_since_prior_order\n",
    "# Outputs displayed in _useage_frequency_columns are the most days the customer has gone since their last instacart order\n",
    "df2['min_usage_frequency']=df2.groupby(['user_id'])['days_since_prior_order'].transform(np.max)"
   ]
  },
  {
   "cell_type": "code",
   "execution_count": 1,
   "id": "c80c2183",
   "metadata": {},
   "outputs": [
    {
     "ename": "NameError",
     "evalue": "name 'df2' is not defined",
     "output_type": "error",
     "traceback": [
      "\u001b[0;31m---------------------------------------------------------------------------\u001b[0m",
      "\u001b[0;31mNameError\u001b[0m                                 Traceback (most recent call last)",
      "Input \u001b[0;32mIn [1]\u001b[0m, in \u001b[0;36m<cell line: 2>\u001b[0;34m()\u001b[0m\n\u001b[1;32m      1\u001b[0m \u001b[38;5;66;03m# To change the data type to one which will take up less memory space\u001b[39;00m\n\u001b[0;32m----> 2\u001b[0m df2[\u001b[38;5;124m'\u001b[39m\u001b[38;5;124mmin_usage_frequency\u001b[39m\u001b[38;5;124m'\u001b[39m]\u001b[38;5;241m=\u001b[39m\u001b[43mdf2\u001b[49m[\u001b[38;5;124m'\u001b[39m\u001b[38;5;124mmin_usage_frequency\u001b[39m\u001b[38;5;124m'\u001b[39m]\u001b[38;5;241m.\u001b[39mastype(\u001b[38;5;124m'\u001b[39m\u001b[38;5;124mint32\u001b[39m\u001b[38;5;124m'\u001b[39m)\n",
      "\u001b[0;31mNameError\u001b[0m: name 'df2' is not defined"
     ]
    }
   ],
   "source": [
    "# To change the data type to one which will take up less memory space\n",
    "df2['min_usage_frequency']=df2['min_usage_frequency'].astype('int32') "
   ]
  },
  {
   "cell_type": "code",
   "execution_count": 63,
   "id": "5c08398d",
   "metadata": {},
   "outputs": [
    {
     "data": {
      "text/plain": [
       "30992664"
      ]
     },
     "execution_count": 63,
     "metadata": {},
     "output_type": "execute_result"
    }
   ],
   "source": [
    "# To check the length of the output\n",
    "len(df2['min_usage_frequency'])"
   ]
  },
  {
   "cell_type": "code",
   "execution_count": 64,
   "id": "e24c4450",
   "metadata": {},
   "outputs": [
    {
     "name": "stderr",
     "output_type": "stream",
     "text": [
      "/var/folders/dp/hgd07ff102g9k5vqs2psn8_40000gn/T/ipykernel_2269/461113080.py:1: SettingWithCopyWarning: \n",
      "A value is trying to be set on a copy of a slice from a DataFrame.\n",
      "Try using .loc[row_indexer,col_indexer] = value instead\n",
      "\n",
      "See the caveats in the documentation: https://pandas.pydata.org/pandas-docs/stable/user_guide/indexing.html#returning-a-view-versus-a-copy\n",
      "  df2['max_usage_frequency']=df2.groupby(['user_id'])['days_since_prior_order'].transform(np.min)\n"
     ]
    }
   ],
   "source": [
    "df2['max_usage_frequency']=df2.groupby(['user_id'])['days_since_prior_order'].transform(np.min)"
   ]
  },
  {
   "cell_type": "code",
   "execution_count": 65,
   "id": "3a3d8b1e",
   "metadata": {},
   "outputs": [
    {
     "name": "stderr",
     "output_type": "stream",
     "text": [
      "/var/folders/dp/hgd07ff102g9k5vqs2psn8_40000gn/T/ipykernel_2269/1068895488.py:1: SettingWithCopyWarning: \n",
      "A value is trying to be set on a copy of a slice from a DataFrame.\n",
      "Try using .loc[row_indexer,col_indexer] = value instead\n",
      "\n",
      "See the caveats in the documentation: https://pandas.pydata.org/pandas-docs/stable/user_guide/indexing.html#returning-a-view-versus-a-copy\n",
      "  df2['max_usage_frequency']=df2['max_usage_frequency'].astype('int32')\n"
     ]
    }
   ],
   "source": [
    "df2['max_usage_frequency']=df2['max_usage_frequency'].astype('int32')"
   ]
  },
  {
   "cell_type": "code",
   "execution_count": 66,
   "id": "4e64668b",
   "metadata": {},
   "outputs": [
    {
     "name": "stderr",
     "output_type": "stream",
     "text": [
      "/var/folders/dp/hgd07ff102g9k5vqs2psn8_40000gn/T/ipykernel_2269/461113080.py:1: SettingWithCopyWarning: \n",
      "A value is trying to be set on a copy of a slice from a DataFrame.\n",
      "Try using .loc[row_indexer,col_indexer] = value instead\n",
      "\n",
      "See the caveats in the documentation: https://pandas.pydata.org/pandas-docs/stable/user_guide/indexing.html#returning-a-view-versus-a-copy\n",
      "  df2['max_usage_frequency']=df2.groupby(['user_id'])['days_since_prior_order'].transform(np.min)\n"
     ]
    }
   ],
   "source": [
    "df2['max_usage_frequency']=df2.groupby(['user_id'])['days_since_prior_order'].transform(np.min)"
   ]
  },
  {
   "cell_type": "code",
   "execution_count": 67,
   "id": "2cd6d01b",
   "metadata": {
    "scrolled": true
   },
   "outputs": [
    {
     "name": "stderr",
     "output_type": "stream",
     "text": [
      "/var/folders/dp/hgd07ff102g9k5vqs2psn8_40000gn/T/ipykernel_2269/3102741312.py:1: SettingWithCopyWarning: \n",
      "A value is trying to be set on a copy of a slice from a DataFrame.\n",
      "Try using .loc[row_indexer,col_indexer] = value instead\n",
      "\n",
      "See the caveats in the documentation: https://pandas.pydata.org/pandas-docs/stable/user_guide/indexing.html#returning-a-view-versus-a-copy\n",
      "  df2['max_usage_frequency']=df2['max_usage_frequency'].astype('int32')\n"
     ]
    }
   ],
   "source": [
    "df2['max_usage_frequency']=df2['max_usage_frequency'].astype('int32') "
   ]
  },
  {
   "cell_type": "code",
   "execution_count": 68,
   "id": "25eb01d0",
   "metadata": {},
   "outputs": [
    {
     "data": {
      "text/plain": [
       "30992664"
      ]
     },
     "execution_count": 68,
     "metadata": {},
     "output_type": "execute_result"
    }
   ],
   "source": [
    "len(df2['max_usage_frequency'])"
   ]
  },
  {
   "cell_type": "code",
   "execution_count": 69,
   "id": "473bbeeb",
   "metadata": {},
   "outputs": [
    {
     "name": "stderr",
     "output_type": "stream",
     "text": [
      "/var/folders/dp/hgd07ff102g9k5vqs2psn8_40000gn/T/ipykernel_2269/2260905509.py:1: SettingWithCopyWarning: \n",
      "A value is trying to be set on a copy of a slice from a DataFrame.\n",
      "Try using .loc[row_indexer,col_indexer] = value instead\n",
      "\n",
      "See the caveats in the documentation: https://pandas.pydata.org/pandas-docs/stable/user_guide/indexing.html#returning-a-view-versus-a-copy\n",
      "  df2['average_usage_frequency']=df2.groupby(['user_id'])['days_since_prior_order'].transform(np.mean)\n"
     ]
    }
   ],
   "source": [
    "df2['average_usage_frequency']=df2.groupby(['user_id'])['days_since_prior_order'].transform(np.mean)"
   ]
  },
  {
   "cell_type": "code",
   "execution_count": 70,
   "id": "dac27c0b",
   "metadata": {},
   "outputs": [
    {
     "name": "stderr",
     "output_type": "stream",
     "text": [
      "/var/folders/dp/hgd07ff102g9k5vqs2psn8_40000gn/T/ipykernel_2269/1259258902.py:1: SettingWithCopyWarning: \n",
      "A value is trying to be set on a copy of a slice from a DataFrame.\n",
      "Try using .loc[row_indexer,col_indexer] = value instead\n",
      "\n",
      "See the caveats in the documentation: https://pandas.pydata.org/pandas-docs/stable/user_guide/indexing.html#returning-a-view-versus-a-copy\n",
      "  df2['average_usage_frequency']=df2['average_usage_frequency'].astype('int32')\n"
     ]
    }
   ],
   "source": [
    "df2['average_usage_frequency']=df2['average_usage_frequency'].astype('int32')"
   ]
  },
  {
   "cell_type": "code",
   "execution_count": 71,
   "id": "69219642",
   "metadata": {},
   "outputs": [
    {
     "data": {
      "text/plain": [
       "30992664"
      ]
     },
     "execution_count": 71,
     "metadata": {},
     "output_type": "execute_result"
    }
   ],
   "source": [
    "len(df2['average_usage_frequency'])"
   ]
  },
  {
   "cell_type": "code",
   "execution_count": 72,
   "id": "032fea52",
   "metadata": {},
   "outputs": [
    {
     "data": {
      "text/html": [
       "<div>\n",
       "<style scoped>\n",
       "    .dataframe tbody tr th:only-of-type {\n",
       "        vertical-align: middle;\n",
       "    }\n",
       "\n",
       "    .dataframe tbody tr th {\n",
       "        vertical-align: top;\n",
       "    }\n",
       "\n",
       "    .dataframe thead th {\n",
       "        text-align: right;\n",
       "    }\n",
       "</style>\n",
       "<table border=\"1\" class=\"dataframe\">\n",
       "  <thead>\n",
       "    <tr style=\"text-align: right;\">\n",
       "      <th></th>\n",
       "      <th>order_id</th>\n",
       "      <th>user_id</th>\n",
       "      <th>eval_set</th>\n",
       "      <th>order_number</th>\n",
       "      <th>orders_day_of_week</th>\n",
       "      <th>order_hour_of_day</th>\n",
       "      <th>days_since_prior_order</th>\n",
       "      <th>product_id</th>\n",
       "      <th>add_to_cart_order</th>\n",
       "      <th>reordered</th>\n",
       "      <th>...</th>\n",
       "      <th>marital_status</th>\n",
       "      <th>income</th>\n",
       "      <th>regions</th>\n",
       "      <th>activity</th>\n",
       "      <th>family_status</th>\n",
       "      <th>vegan_status</th>\n",
       "      <th>age_category</th>\n",
       "      <th>min_usage_frequency</th>\n",
       "      <th>max_usage_frequency</th>\n",
       "      <th>average_usage_frequency</th>\n",
       "    </tr>\n",
       "  </thead>\n",
       "  <tbody>\n",
       "    <tr>\n",
       "      <th>0</th>\n",
       "      <td>2539329</td>\n",
       "      <td>1</td>\n",
       "      <td>prior</td>\n",
       "      <td>1</td>\n",
       "      <td>2</td>\n",
       "      <td>8</td>\n",
       "      <td>NaN</td>\n",
       "      <td>196</td>\n",
       "      <td>1</td>\n",
       "      <td>0</td>\n",
       "      <td>...</td>\n",
       "      <td>married</td>\n",
       "      <td>40423</td>\n",
       "      <td>South</td>\n",
       "      <td>normal</td>\n",
       "      <td>family with older children</td>\n",
       "      <td>vegan</td>\n",
       "      <td>young adult</td>\n",
       "      <td>30</td>\n",
       "      <td>0</td>\n",
       "      <td>20</td>\n",
       "    </tr>\n",
       "    <tr>\n",
       "      <th>1</th>\n",
       "      <td>2398795</td>\n",
       "      <td>1</td>\n",
       "      <td>prior</td>\n",
       "      <td>2</td>\n",
       "      <td>3</td>\n",
       "      <td>7</td>\n",
       "      <td>15.0</td>\n",
       "      <td>196</td>\n",
       "      <td>1</td>\n",
       "      <td>1</td>\n",
       "      <td>...</td>\n",
       "      <td>married</td>\n",
       "      <td>40423</td>\n",
       "      <td>South</td>\n",
       "      <td>normal</td>\n",
       "      <td>family with older children</td>\n",
       "      <td>vegan</td>\n",
       "      <td>young adult</td>\n",
       "      <td>30</td>\n",
       "      <td>0</td>\n",
       "      <td>20</td>\n",
       "    </tr>\n",
       "    <tr>\n",
       "      <th>2</th>\n",
       "      <td>473747</td>\n",
       "      <td>1</td>\n",
       "      <td>prior</td>\n",
       "      <td>3</td>\n",
       "      <td>3</td>\n",
       "      <td>12</td>\n",
       "      <td>21.0</td>\n",
       "      <td>196</td>\n",
       "      <td>1</td>\n",
       "      <td>1</td>\n",
       "      <td>...</td>\n",
       "      <td>married</td>\n",
       "      <td>40423</td>\n",
       "      <td>South</td>\n",
       "      <td>normal</td>\n",
       "      <td>family with older children</td>\n",
       "      <td>vegan</td>\n",
       "      <td>young adult</td>\n",
       "      <td>30</td>\n",
       "      <td>0</td>\n",
       "      <td>20</td>\n",
       "    </tr>\n",
       "    <tr>\n",
       "      <th>3</th>\n",
       "      <td>2254736</td>\n",
       "      <td>1</td>\n",
       "      <td>prior</td>\n",
       "      <td>4</td>\n",
       "      <td>4</td>\n",
       "      <td>7</td>\n",
       "      <td>29.0</td>\n",
       "      <td>196</td>\n",
       "      <td>1</td>\n",
       "      <td>1</td>\n",
       "      <td>...</td>\n",
       "      <td>married</td>\n",
       "      <td>40423</td>\n",
       "      <td>South</td>\n",
       "      <td>normal</td>\n",
       "      <td>family with older children</td>\n",
       "      <td>vegan</td>\n",
       "      <td>young adult</td>\n",
       "      <td>30</td>\n",
       "      <td>0</td>\n",
       "      <td>20</td>\n",
       "    </tr>\n",
       "    <tr>\n",
       "      <th>4</th>\n",
       "      <td>431534</td>\n",
       "      <td>1</td>\n",
       "      <td>prior</td>\n",
       "      <td>5</td>\n",
       "      <td>4</td>\n",
       "      <td>15</td>\n",
       "      <td>28.0</td>\n",
       "      <td>196</td>\n",
       "      <td>1</td>\n",
       "      <td>1</td>\n",
       "      <td>...</td>\n",
       "      <td>married</td>\n",
       "      <td>40423</td>\n",
       "      <td>South</td>\n",
       "      <td>normal</td>\n",
       "      <td>family with older children</td>\n",
       "      <td>vegan</td>\n",
       "      <td>young adult</td>\n",
       "      <td>30</td>\n",
       "      <td>0</td>\n",
       "      <td>20</td>\n",
       "    </tr>\n",
       "  </tbody>\n",
       "</table>\n",
       "<p>5 rows × 41 columns</p>\n",
       "</div>"
      ],
      "text/plain": [
       "   order_id  user_id eval_set  order_number  orders_day_of_week  \\\n",
       "0   2539329        1    prior             1                   2   \n",
       "1   2398795        1    prior             2                   3   \n",
       "2    473747        1    prior             3                   3   \n",
       "3   2254736        1    prior             4                   4   \n",
       "4    431534        1    prior             5                   4   \n",
       "\n",
       "   order_hour_of_day  days_since_prior_order  product_id  add_to_cart_order  \\\n",
       "0                  8                     NaN         196                  1   \n",
       "1                  7                    15.0         196                  1   \n",
       "2                 12                    21.0         196                  1   \n",
       "3                  7                    29.0         196                  1   \n",
       "4                 15                    28.0         196                  1   \n",
       "\n",
       "   reordered  ... marital_status  income  regions  activity  \\\n",
       "0          0  ...        married   40423    South    normal   \n",
       "1          1  ...        married   40423    South    normal   \n",
       "2          1  ...        married   40423    South    normal   \n",
       "3          1  ...        married   40423    South    normal   \n",
       "4          1  ...        married   40423    South    normal   \n",
       "\n",
       "                family_status vegan_status age_category min_usage_frequency  \\\n",
       "0  family with older children        vegan  young adult                  30   \n",
       "1  family with older children        vegan  young adult                  30   \n",
       "2  family with older children        vegan  young adult                  30   \n",
       "3  family with older children        vegan  young adult                  30   \n",
       "4  family with older children        vegan  young adult                  30   \n",
       "\n",
       "   max_usage_frequency average_usage_frequency  \n",
       "0                    0                      20  \n",
       "1                    0                      20  \n",
       "2                    0                      20  \n",
       "3                    0                      20  \n",
       "4                    0                      20  \n",
       "\n",
       "[5 rows x 41 columns]"
      ]
     },
     "execution_count": 72,
     "metadata": {},
     "output_type": "execute_result"
    }
   ],
   "source": [
    "df2.head()"
   ]
  },
  {
   "cell_type": "code",
   "execution_count": 73,
   "id": "c706ef9f",
   "metadata": {
    "scrolled": true
   },
   "outputs": [
    {
     "name": "stderr",
     "output_type": "stream",
     "text": [
      "/var/folders/dp/hgd07ff102g9k5vqs2psn8_40000gn/T/ipykernel_2269/4002367040.py:2: SettingWithCopyWarning: \n",
      "A value is trying to be set on a copy of a slice from a DataFrame.\n",
      "Try using .loc[row_indexer,col_indexer] = value instead\n",
      "\n",
      "See the caveats in the documentation: https://pandas.pydata.org/pandas-docs/stable/user_guide/indexing.html#returning-a-view-versus-a-copy\n",
      "  df2['max_expenditure']=df2.groupby(['user_id'])['prices'].transform(np.max)\n"
     ]
    }
   ],
   "source": [
    "# Creating customer expenditure aggregation variables and check the length of each new column\n",
    "df2['max_expenditure']=df2.groupby(['user_id'])['prices'].transform(np.max)"
   ]
  },
  {
   "cell_type": "code",
   "execution_count": 74,
   "id": "82ac954b",
   "metadata": {},
   "outputs": [
    {
     "name": "stderr",
     "output_type": "stream",
     "text": [
      "/var/folders/dp/hgd07ff102g9k5vqs2psn8_40000gn/T/ipykernel_2269/3845791414.py:2: SettingWithCopyWarning: \n",
      "A value is trying to be set on a copy of a slice from a DataFrame.\n",
      "Try using .loc[row_indexer,col_indexer] = value instead\n",
      "\n",
      "See the caveats in the documentation: https://pandas.pydata.org/pandas-docs/stable/user_guide/indexing.html#returning-a-view-versus-a-copy\n",
      "  df2['max_expenditure']=df2['max_expenditure'].astype('int32')\n"
     ]
    }
   ],
   "source": [
    "# To change the data type to one which will take up less memory space\n",
    "df2['max_expenditure']=df2['max_expenditure'].astype('int32')"
   ]
  },
  {
   "cell_type": "code",
   "execution_count": 75,
   "id": "73adcfff",
   "metadata": {},
   "outputs": [
    {
     "data": {
      "text/plain": [
       "30992664"
      ]
     },
     "execution_count": 75,
     "metadata": {},
     "output_type": "execute_result"
    }
   ],
   "source": [
    "len(df2['max_expenditure'])"
   ]
  },
  {
   "cell_type": "code",
   "execution_count": 76,
   "id": "1e1d2146",
   "metadata": {},
   "outputs": [
    {
     "name": "stderr",
     "output_type": "stream",
     "text": [
      "/var/folders/dp/hgd07ff102g9k5vqs2psn8_40000gn/T/ipykernel_2269/60051554.py:1: SettingWithCopyWarning: \n",
      "A value is trying to be set on a copy of a slice from a DataFrame.\n",
      "Try using .loc[row_indexer,col_indexer] = value instead\n",
      "\n",
      "See the caveats in the documentation: https://pandas.pydata.org/pandas-docs/stable/user_guide/indexing.html#returning-a-view-versus-a-copy\n",
      "  df2['min_expenditure']=df2.groupby(['user_id'])['prices'].transform(np.min)\n"
     ]
    }
   ],
   "source": [
    "df2['min_expenditure']=df2.groupby(['user_id'])['prices'].transform(np.min)"
   ]
  },
  {
   "cell_type": "code",
   "execution_count": 77,
   "id": "e84a73fc",
   "metadata": {},
   "outputs": [
    {
     "name": "stderr",
     "output_type": "stream",
     "text": [
      "/var/folders/dp/hgd07ff102g9k5vqs2psn8_40000gn/T/ipykernel_2269/474183579.py:1: SettingWithCopyWarning: \n",
      "A value is trying to be set on a copy of a slice from a DataFrame.\n",
      "Try using .loc[row_indexer,col_indexer] = value instead\n",
      "\n",
      "See the caveats in the documentation: https://pandas.pydata.org/pandas-docs/stable/user_guide/indexing.html#returning-a-view-versus-a-copy\n",
      "  df2['min_expenditure']=df2['min_expenditure'].astype('int32')\n"
     ]
    }
   ],
   "source": [
    "df2['min_expenditure']=df2['min_expenditure'].astype('int32')"
   ]
  },
  {
   "cell_type": "code",
   "execution_count": 78,
   "id": "cc466b21",
   "metadata": {},
   "outputs": [
    {
     "data": {
      "text/plain": [
       "30992664"
      ]
     },
     "execution_count": 78,
     "metadata": {},
     "output_type": "execute_result"
    }
   ],
   "source": [
    "len(df2['min_expenditure'])"
   ]
  },
  {
   "cell_type": "code",
   "execution_count": 79,
   "id": "8edbc0fd",
   "metadata": {},
   "outputs": [
    {
     "name": "stderr",
     "output_type": "stream",
     "text": [
      "/var/folders/dp/hgd07ff102g9k5vqs2psn8_40000gn/T/ipykernel_2269/1376841998.py:1: SettingWithCopyWarning: \n",
      "A value is trying to be set on a copy of a slice from a DataFrame.\n",
      "Try using .loc[row_indexer,col_indexer] = value instead\n",
      "\n",
      "See the caveats in the documentation: https://pandas.pydata.org/pandas-docs/stable/user_guide/indexing.html#returning-a-view-versus-a-copy\n",
      "  df2['avg_expenditure']=df2.groupby(['user_id'])['prices'].transform(np.mean)\n"
     ]
    }
   ],
   "source": [
    "df2['avg_expenditure']=df2.groupby(['user_id'])['prices'].transform(np.mean)"
   ]
  },
  {
   "cell_type": "code",
   "execution_count": 80,
   "id": "5d147747",
   "metadata": {},
   "outputs": [
    {
     "name": "stderr",
     "output_type": "stream",
     "text": [
      "/var/folders/dp/hgd07ff102g9k5vqs2psn8_40000gn/T/ipykernel_2269/3032774477.py:1: SettingWithCopyWarning: \n",
      "A value is trying to be set on a copy of a slice from a DataFrame.\n",
      "Try using .loc[row_indexer,col_indexer] = value instead\n",
      "\n",
      "See the caveats in the documentation: https://pandas.pydata.org/pandas-docs/stable/user_guide/indexing.html#returning-a-view-versus-a-copy\n",
      "  df2['avg_expenditure']=df2['avg_expenditure'].astype('int32')\n"
     ]
    }
   ],
   "source": [
    "df2['avg_expenditure']=df2['avg_expenditure'].astype('int32')"
   ]
  },
  {
   "cell_type": "code",
   "execution_count": 81,
   "id": "93317bcc",
   "metadata": {},
   "outputs": [
    {
     "data": {
      "text/plain": [
       "30992664"
      ]
     },
     "execution_count": 81,
     "metadata": {},
     "output_type": "execute_result"
    }
   ],
   "source": [
    "len(df2['avg_expenditure'])"
   ]
  },
  {
   "cell_type": "code",
   "execution_count": 82,
   "id": "95080655",
   "metadata": {},
   "outputs": [
    {
     "data": {
      "text/html": [
       "<div>\n",
       "<style scoped>\n",
       "    .dataframe tbody tr th:only-of-type {\n",
       "        vertical-align: middle;\n",
       "    }\n",
       "\n",
       "    .dataframe tbody tr th {\n",
       "        vertical-align: top;\n",
       "    }\n",
       "\n",
       "    .dataframe thead th {\n",
       "        text-align: right;\n",
       "    }\n",
       "</style>\n",
       "<table border=\"1\" class=\"dataframe\">\n",
       "  <thead>\n",
       "    <tr style=\"text-align: right;\">\n",
       "      <th></th>\n",
       "      <th>order_id</th>\n",
       "      <th>user_id</th>\n",
       "      <th>eval_set</th>\n",
       "      <th>order_number</th>\n",
       "      <th>orders_day_of_week</th>\n",
       "      <th>order_hour_of_day</th>\n",
       "      <th>days_since_prior_order</th>\n",
       "      <th>product_id</th>\n",
       "      <th>add_to_cart_order</th>\n",
       "      <th>reordered</th>\n",
       "      <th>...</th>\n",
       "      <th>activity</th>\n",
       "      <th>family_status</th>\n",
       "      <th>vegan_status</th>\n",
       "      <th>age_category</th>\n",
       "      <th>min_usage_frequency</th>\n",
       "      <th>max_usage_frequency</th>\n",
       "      <th>average_usage_frequency</th>\n",
       "      <th>max_expenditure</th>\n",
       "      <th>min_expenditure</th>\n",
       "      <th>avg_expenditure</th>\n",
       "    </tr>\n",
       "  </thead>\n",
       "  <tbody>\n",
       "    <tr>\n",
       "      <th>0</th>\n",
       "      <td>2539329</td>\n",
       "      <td>1</td>\n",
       "      <td>prior</td>\n",
       "      <td>1</td>\n",
       "      <td>2</td>\n",
       "      <td>8</td>\n",
       "      <td>NaN</td>\n",
       "      <td>196</td>\n",
       "      <td>1</td>\n",
       "      <td>0</td>\n",
       "      <td>...</td>\n",
       "      <td>normal</td>\n",
       "      <td>family with older children</td>\n",
       "      <td>vegan</td>\n",
       "      <td>young adult</td>\n",
       "      <td>30</td>\n",
       "      <td>0</td>\n",
       "      <td>20</td>\n",
       "      <td>14</td>\n",
       "      <td>1</td>\n",
       "      <td>6</td>\n",
       "    </tr>\n",
       "    <tr>\n",
       "      <th>1</th>\n",
       "      <td>2398795</td>\n",
       "      <td>1</td>\n",
       "      <td>prior</td>\n",
       "      <td>2</td>\n",
       "      <td>3</td>\n",
       "      <td>7</td>\n",
       "      <td>15.0</td>\n",
       "      <td>196</td>\n",
       "      <td>1</td>\n",
       "      <td>1</td>\n",
       "      <td>...</td>\n",
       "      <td>normal</td>\n",
       "      <td>family with older children</td>\n",
       "      <td>vegan</td>\n",
       "      <td>young adult</td>\n",
       "      <td>30</td>\n",
       "      <td>0</td>\n",
       "      <td>20</td>\n",
       "      <td>14</td>\n",
       "      <td>1</td>\n",
       "      <td>6</td>\n",
       "    </tr>\n",
       "    <tr>\n",
       "      <th>2</th>\n",
       "      <td>473747</td>\n",
       "      <td>1</td>\n",
       "      <td>prior</td>\n",
       "      <td>3</td>\n",
       "      <td>3</td>\n",
       "      <td>12</td>\n",
       "      <td>21.0</td>\n",
       "      <td>196</td>\n",
       "      <td>1</td>\n",
       "      <td>1</td>\n",
       "      <td>...</td>\n",
       "      <td>normal</td>\n",
       "      <td>family with older children</td>\n",
       "      <td>vegan</td>\n",
       "      <td>young adult</td>\n",
       "      <td>30</td>\n",
       "      <td>0</td>\n",
       "      <td>20</td>\n",
       "      <td>14</td>\n",
       "      <td>1</td>\n",
       "      <td>6</td>\n",
       "    </tr>\n",
       "    <tr>\n",
       "      <th>3</th>\n",
       "      <td>2254736</td>\n",
       "      <td>1</td>\n",
       "      <td>prior</td>\n",
       "      <td>4</td>\n",
       "      <td>4</td>\n",
       "      <td>7</td>\n",
       "      <td>29.0</td>\n",
       "      <td>196</td>\n",
       "      <td>1</td>\n",
       "      <td>1</td>\n",
       "      <td>...</td>\n",
       "      <td>normal</td>\n",
       "      <td>family with older children</td>\n",
       "      <td>vegan</td>\n",
       "      <td>young adult</td>\n",
       "      <td>30</td>\n",
       "      <td>0</td>\n",
       "      <td>20</td>\n",
       "      <td>14</td>\n",
       "      <td>1</td>\n",
       "      <td>6</td>\n",
       "    </tr>\n",
       "    <tr>\n",
       "      <th>4</th>\n",
       "      <td>431534</td>\n",
       "      <td>1</td>\n",
       "      <td>prior</td>\n",
       "      <td>5</td>\n",
       "      <td>4</td>\n",
       "      <td>15</td>\n",
       "      <td>28.0</td>\n",
       "      <td>196</td>\n",
       "      <td>1</td>\n",
       "      <td>1</td>\n",
       "      <td>...</td>\n",
       "      <td>normal</td>\n",
       "      <td>family with older children</td>\n",
       "      <td>vegan</td>\n",
       "      <td>young adult</td>\n",
       "      <td>30</td>\n",
       "      <td>0</td>\n",
       "      <td>20</td>\n",
       "      <td>14</td>\n",
       "      <td>1</td>\n",
       "      <td>6</td>\n",
       "    </tr>\n",
       "  </tbody>\n",
       "</table>\n",
       "<p>5 rows × 44 columns</p>\n",
       "</div>"
      ],
      "text/plain": [
       "   order_id  user_id eval_set  order_number  orders_day_of_week  \\\n",
       "0   2539329        1    prior             1                   2   \n",
       "1   2398795        1    prior             2                   3   \n",
       "2    473747        1    prior             3                   3   \n",
       "3   2254736        1    prior             4                   4   \n",
       "4    431534        1    prior             5                   4   \n",
       "\n",
       "   order_hour_of_day  days_since_prior_order  product_id  add_to_cart_order  \\\n",
       "0                  8                     NaN         196                  1   \n",
       "1                  7                    15.0         196                  1   \n",
       "2                 12                    21.0         196                  1   \n",
       "3                  7                    29.0         196                  1   \n",
       "4                 15                    28.0         196                  1   \n",
       "\n",
       "   reordered  ... activity               family_status  vegan_status  \\\n",
       "0          0  ...   normal  family with older children         vegan   \n",
       "1          1  ...   normal  family with older children         vegan   \n",
       "2          1  ...   normal  family with older children         vegan   \n",
       "3          1  ...   normal  family with older children         vegan   \n",
       "4          1  ...   normal  family with older children         vegan   \n",
       "\n",
       "   age_category min_usage_frequency max_usage_frequency  \\\n",
       "0   young adult                  30                   0   \n",
       "1   young adult                  30                   0   \n",
       "2   young adult                  30                   0   \n",
       "3   young adult                  30                   0   \n",
       "4   young adult                  30                   0   \n",
       "\n",
       "  average_usage_frequency max_expenditure  min_expenditure avg_expenditure  \n",
       "0                      20              14                1               6  \n",
       "1                      20              14                1               6  \n",
       "2                      20              14                1               6  \n",
       "3                      20              14                1               6  \n",
       "4                      20              14                1               6  \n",
       "\n",
       "[5 rows x 44 columns]"
      ]
     },
     "execution_count": 82,
     "metadata": {},
     "output_type": "execute_result"
    }
   ],
   "source": [
    "df2.head()"
   ]
  },
  {
   "cell_type": "markdown",
   "id": "52a0d7aa",
   "metadata": {},
   "source": [
    "#7 VISUALS"
   ]
  },
  {
   "cell_type": "code",
   "execution_count": 95,
   "id": "54e07cf7",
   "metadata": {},
   "outputs": [
    {
     "data": {
      "image/png": "[encoded data removed]",
      "text/plain": [
       "<Figure size 432x288 with 1 Axes>"
      ]
     },
     "metadata": {
      "needs_background": "light"
     },
     "output_type": "display_data"
    }
   ],
   "source": [
    "# BAR CHART FOR FAMILY STATUS\n",
    "fam_status_bar=df2['family_status'].value_counts().plot.bar(color=['salmon','lightsalmon','orangered'])"
   ]
  },
  {
   "cell_type": "markdown",
   "id": "cbdca9a8",
   "metadata": {},
   "source": [
    "#Analysis - Families with older children are most likely to purchase from instacart by almost double as those with no children. It's surprising that the families with young children don't subscribe to service, considering how much time small children require. "
   ]
  },
  {
   "cell_type": "code",
   "execution_count": 5,
   "id": "a31b15ef",
   "metadata": {},
   "outputs": [
    {
     "ename": "NameError",
     "evalue": "name 'fam_status_bar' is not defined",
     "output_type": "error",
     "traceback": [
      "\u001b[0;31m---------------------------------------------------------------------------\u001b[0m",
      "\u001b[0;31mNameError\u001b[0m                                 Traceback (most recent call last)",
      "Input \u001b[0;32mIn [5]\u001b[0m, in \u001b[0;36m<cell line: 2>\u001b[0;34m()\u001b[0m\n\u001b[1;32m      1\u001b[0m \u001b[38;5;66;03m# Saving the fam_status_bar chart as a PNG\u001b[39;00m\n\u001b[0;32m----> 2\u001b[0m \u001b[43mfam_status_bar\u001b[49m\u001b[38;5;241m.\u001b[39mfigure\u001b[38;5;241m.\u001b[39msavefig(os\u001b[38;5;241m.\u001b[39mpath\u001b[38;5;241m.\u001b[39mjoin(path,\u001b[38;5;124m'\u001b[39m\u001b[38;5;124mAnalysis\u001b[39m\u001b[38;5;124m'\u001b[39m,\u001b[38;5;124m'\u001b[39m\u001b[38;5;124mVisualizations 4.10\u001b[39m\u001b[38;5;124m'\u001b[39m,\u001b[38;5;124m'\u001b[39m\u001b[38;5;124mfam_status_bar.png\u001b[39m\u001b[38;5;124m'\u001b[39m))\n",
      "\u001b[0;31mNameError\u001b[0m: name 'fam_status_bar' is not defined"
     ]
    }
   ],
   "source": [
    "# Saving the fam_status_bar chart as a PNG\n",
    "fam_status_bar.figure.savefig(os.path.join(path,'Analysis','Visualizations 4.10','fam_status_bar.png'))"
   ]
  },
  {
   "cell_type": "code",
   "execution_count": 94,
   "id": "f31879b8",
   "metadata": {},
   "outputs": [
    {
     "data": {
      "image/png": "[encoded data removed]",
      "text/plain": [
       "<Figure size 432x288 with 1 Axes>"
      ]
     },
     "metadata": {
      "needs_background": "light"
     },
     "output_type": "display_data"
    }
   ],
   "source": [
    "# BAR CHART FOR VEGAN PRODUCT\n",
    "veg_status_bar=df2['vegan_status'].value_counts().plot.bar(color=['deeppink','pink'])"
   ]
  },
  {
   "cell_type": "markdown",
   "id": "344407b0",
   "metadata": {},
   "source": [
    "Analysis - Most customers seems to purchase items that are not perishiable like meat, eggs and diary. Seems although the customers are seeking Instacart for dry foods. "
   ]
  },
  {
   "cell_type": "code",
   "execution_count": 89,
   "id": "fdad24b1",
   "metadata": {},
   "outputs": [],
   "source": [
    "# Saving veg_status_bar chart as a PNG\n",
    "veg_status_bar.figure.savefig(os.path.join(path,'Analysis','Visualizations','veg_status_bar.png'))"
   ]
  },
  {
   "cell_type": "code",
   "execution_count": 90,
   "id": "c1f45784",
   "metadata": {},
   "outputs": [
    {
     "data": {
      "image/png": "[encoded data removed]",
      "text/plain": [
       "<Figure size 432x288 with 1 Axes>"
      ]
     },
     "metadata": {
      "needs_background": "light"
     },
     "output_type": "display_data"
    }
   ],
   "source": [
    "# HISTOGRAM FOR AGE COLUMN\n",
    "age_hist=df2['age'].plot.hist(bins=5)"
   ]
  },
  {
   "cell_type": "code",
   "execution_count": 93,
   "id": "f0b4bd58",
   "metadata": {},
   "outputs": [
    {
     "data": {
      "image/png": "[encoded data removed]",
      "text/plain": [
       "<Figure size 432x288 with 1 Axes>"
      ]
     },
     "metadata": {
      "needs_background": "light"
     },
     "output_type": "display_data"
    }
   ],
   "source": [
    "# Creating a bar graph of the age_category column\n",
    "age_cat_bar=df2['age_category'].value_counts().plot.bar(color=['Teal','cadetblue','lightseagreen','mediumturquoise','turquoise'])"
   ]
  },
  {
   "cell_type": "markdown",
   "id": "a850d6f6",
   "metadata": {},
   "source": [
    "Analysis - Instacart has significant senior customer base, followed by college age, which is about 60% of the customer . Customers that are considered middile age adult, young adult and late career adult each are about half of the customer base as seniors. "
   ]
  },
  {
   "cell_type": "code",
   "execution_count": 96,
   "id": "c0dca595",
   "metadata": {},
   "outputs": [],
   "source": [
    "# Saving age_hist as a PNG\n",
    "age_hist.figure.savefig(os.path.join(path,'Analysis','Visualizations','age_hist.png'))"
   ]
  },
  {
   "cell_type": "code",
   "execution_count": 97,
   "id": "75d8ef61",
   "metadata": {},
   "outputs": [],
   "source": [
    "# Saving age_cat_bar as a PNG\n",
    "age_cat_bar.figure.savefig(os.path.join(path,'Analysis','Visualizations','age_category_bar.png'))"
   ]
  },
  {
   "cell_type": "markdown",
   "id": "de6206ad",
   "metadata": {},
   "source": [
    "#8 Compare customer profile with regions and departments"
   ]
  },
  {
   "cell_type": "code",
   "execution_count": 98,
   "id": "ff538617",
   "metadata": {},
   "outputs": [],
   "source": [
    "# To crosstuabulate customer family status by region\n",
    "crosstab_fam_status=pd.crosstab(df2['regions'],df2['family_status'],dropna=False)"
   ]
  },
  {
   "cell_type": "code",
   "execution_count": 99,
   "id": "c17744dc",
   "metadata": {},
   "outputs": [
    {
     "data": {
      "text/html": [
       "<div>\n",
       "<style scoped>\n",
       "    .dataframe tbody tr th:only-of-type {\n",
       "        vertical-align: middle;\n",
       "    }\n",
       "\n",
       "    .dataframe tbody tr th {\n",
       "        vertical-align: top;\n",
       "    }\n",
       "\n",
       "    .dataframe thead th {\n",
       "        text-align: right;\n",
       "    }\n",
       "</style>\n",
       "<table border=\"1\" class=\"dataframe\">\n",
       "  <thead>\n",
       "    <tr style=\"text-align: right;\">\n",
       "      <th>family_status</th>\n",
       "      <th>family with older children</th>\n",
       "      <th>family with young children</th>\n",
       "      <th>no children</th>\n",
       "    </tr>\n",
       "    <tr>\n",
       "      <th>regions</th>\n",
       "      <th></th>\n",
       "      <th></th>\n",
       "      <th></th>\n",
       "    </tr>\n",
       "  </thead>\n",
       "  <tbody>\n",
       "    <tr>\n",
       "      <th>Midwest</th>\n",
       "      <td>5372187</td>\n",
       "      <td>71033</td>\n",
       "      <td>1824487</td>\n",
       "    </tr>\n",
       "    <tr>\n",
       "      <th>Northeast</th>\n",
       "      <td>4059553</td>\n",
       "      <td>54687</td>\n",
       "      <td>1355828</td>\n",
       "    </tr>\n",
       "    <tr>\n",
       "      <th>South</th>\n",
       "      <td>7631879</td>\n",
       "      <td>104231</td>\n",
       "      <td>2584352</td>\n",
       "    </tr>\n",
       "    <tr>\n",
       "      <th>West</th>\n",
       "      <td>5874949</td>\n",
       "      <td>77113</td>\n",
       "      <td>1982365</td>\n",
       "    </tr>\n",
       "  </tbody>\n",
       "</table>\n",
       "</div>"
      ],
      "text/plain": [
       "family_status  family with older children  family with young children  \\\n",
       "regions                                                                 \n",
       "Midwest                           5372187                       71033   \n",
       "Northeast                         4059553                       54687   \n",
       "South                             7631879                      104231   \n",
       "West                              5874949                       77113   \n",
       "\n",
       "family_status  no children  \n",
       "regions                     \n",
       "Midwest            1824487  \n",
       "Northeast          1355828  \n",
       "South              2584352  \n",
       "West               1982365  "
      ]
     },
     "execution_count": 99,
     "metadata": {},
     "output_type": "execute_result"
    }
   ],
   "source": [
    "crosstab_fam_status"
   ]
  },
  {
   "cell_type": "code",
   "execution_count": 100,
   "id": "267bb40c",
   "metadata": {},
   "outputs": [],
   "source": [
    "crosstab_fam_status.to_clipboard()"
   ]
  },
  {
   "cell_type": "code",
   "execution_count": 101,
   "id": "7af1244d",
   "metadata": {},
   "outputs": [],
   "source": [
    "# To crosstabulate vegan status by region\n",
    "crosstab_veg_status=pd.crosstab(df2['regions'],df2['vegan_status'],dropna=False)"
   ]
  },
  {
   "cell_type": "code",
   "execution_count": 102,
   "id": "869efc58",
   "metadata": {},
   "outputs": [
    {
     "data": {
      "text/html": [
       "<div>\n",
       "<style scoped>\n",
       "    .dataframe tbody tr th:only-of-type {\n",
       "        vertical-align: middle;\n",
       "    }\n",
       "\n",
       "    .dataframe tbody tr th {\n",
       "        vertical-align: top;\n",
       "    }\n",
       "\n",
       "    .dataframe thead th {\n",
       "        text-align: right;\n",
       "    }\n",
       "</style>\n",
       "<table border=\"1\" class=\"dataframe\">\n",
       "  <thead>\n",
       "    <tr style=\"text-align: right;\">\n",
       "      <th>vegan_status</th>\n",
       "      <th>not vegan</th>\n",
       "      <th>vegan</th>\n",
       "    </tr>\n",
       "    <tr>\n",
       "      <th>regions</th>\n",
       "      <th></th>\n",
       "      <th></th>\n",
       "    </tr>\n",
       "  </thead>\n",
       "  <tbody>\n",
       "    <tr>\n",
       "      <th>Midwest</th>\n",
       "      <td>1608546</td>\n",
       "      <td>5659161</td>\n",
       "    </tr>\n",
       "    <tr>\n",
       "      <th>Northeast</th>\n",
       "      <td>1214263</td>\n",
       "      <td>4255805</td>\n",
       "    </tr>\n",
       "    <tr>\n",
       "      <th>South</th>\n",
       "      <td>2285565</td>\n",
       "      <td>8034897</td>\n",
       "    </tr>\n",
       "    <tr>\n",
       "      <th>West</th>\n",
       "      <td>1762073</td>\n",
       "      <td>6172354</td>\n",
       "    </tr>\n",
       "  </tbody>\n",
       "</table>\n",
       "</div>"
      ],
      "text/plain": [
       "vegan_status  not vegan    vegan\n",
       "regions                         \n",
       "Midwest         1608546  5659161\n",
       "Northeast       1214263  4255805\n",
       "South           2285565  8034897\n",
       "West            1762073  6172354"
      ]
     },
     "execution_count": 102,
     "metadata": {},
     "output_type": "execute_result"
    }
   ],
   "source": [
    "crosstab_veg_status"
   ]
  },
  {
   "cell_type": "code",
   "execution_count": 103,
   "id": "94312d74",
   "metadata": {},
   "outputs": [],
   "source": [
    "crosstab_veg_status.to_clipboard()"
   ]
  },
  {
   "cell_type": "code",
   "execution_count": 104,
   "id": "d7559a9c",
   "metadata": {},
   "outputs": [],
   "source": [
    "crosstab_age_category=pd.crosstab(df2['regions'],df2['age_category'],dropna=False)"
   ]
  },
  {
   "cell_type": "code",
   "execution_count": 105,
   "id": "fa9551c2",
   "metadata": {},
   "outputs": [
    {
     "data": {
      "text/html": [
       "<div>\n",
       "<style scoped>\n",
       "    .dataframe tbody tr th:only-of-type {\n",
       "        vertical-align: middle;\n",
       "    }\n",
       "\n",
       "    .dataframe tbody tr th {\n",
       "        vertical-align: top;\n",
       "    }\n",
       "\n",
       "    .dataframe thead th {\n",
       "        text-align: right;\n",
       "    }\n",
       "</style>\n",
       "<table border=\"1\" class=\"dataframe\">\n",
       "  <thead>\n",
       "    <tr style=\"text-align: right;\">\n",
       "      <th>age_category</th>\n",
       "      <th>college age</th>\n",
       "      <th>late career adult</th>\n",
       "      <th>middle age adult</th>\n",
       "      <th>senior</th>\n",
       "      <th>young adult</th>\n",
       "    </tr>\n",
       "    <tr>\n",
       "      <th>regions</th>\n",
       "      <th></th>\n",
       "      <th></th>\n",
       "      <th></th>\n",
       "      <th></th>\n",
       "      <th></th>\n",
       "    </tr>\n",
       "  </thead>\n",
       "  <tbody>\n",
       "    <tr>\n",
       "      <th>Midwest</th>\n",
       "      <td>1356946</td>\n",
       "      <td>1149210</td>\n",
       "      <td>1175882</td>\n",
       "      <td>2358596</td>\n",
       "      <td>1128320</td>\n",
       "    </tr>\n",
       "    <tr>\n",
       "      <th>Northeast</th>\n",
       "      <td>1025132</td>\n",
       "      <td>850120</td>\n",
       "      <td>860342</td>\n",
       "      <td>1810761</td>\n",
       "      <td>848422</td>\n",
       "    </tr>\n",
       "    <tr>\n",
       "      <th>South</th>\n",
       "      <td>1962570</td>\n",
       "      <td>1582024</td>\n",
       "      <td>1602389</td>\n",
       "      <td>3364234</td>\n",
       "      <td>1648895</td>\n",
       "    </tr>\n",
       "    <tr>\n",
       "      <th>West</th>\n",
       "      <td>1478373</td>\n",
       "      <td>1265144</td>\n",
       "      <td>1248962</td>\n",
       "      <td>2588022</td>\n",
       "      <td>1225992</td>\n",
       "    </tr>\n",
       "  </tbody>\n",
       "</table>\n",
       "</div>"
      ],
      "text/plain": [
       "age_category  college age  late career adult  middle age adult   senior  \\\n",
       "regions                                                                   \n",
       "Midwest           1356946            1149210           1175882  2358596   \n",
       "Northeast         1025132             850120            860342  1810761   \n",
       "South             1962570            1582024           1602389  3364234   \n",
       "West              1478373            1265144           1248962  2588022   \n",
       "\n",
       "age_category  young adult  \n",
       "regions                    \n",
       "Midwest           1128320  \n",
       "Northeast          848422  \n",
       "South             1648895  \n",
       "West              1225992  "
      ]
     },
     "execution_count": 105,
     "metadata": {},
     "output_type": "execute_result"
    }
   ],
   "source": [
    "crosstab_age_category"
   ]
  },
  {
   "cell_type": "code",
   "execution_count": 106,
   "id": "640a235f",
   "metadata": {},
   "outputs": [],
   "source": [
    "crosstab_age_category.to_clipboard()"
   ]
  },
  {
   "cell_type": "code",
   "execution_count": 107,
   "id": "30acb27d",
   "metadata": {},
   "outputs": [
    {
     "data": {
      "text/plain": [
       "(30992664, 44)"
      ]
     },
     "execution_count": 107,
     "metadata": {},
     "output_type": "execute_result"
    }
   ],
   "source": [
    "df2.shape"
   ]
  },
  {
   "cell_type": "code",
   "execution_count": 108,
   "id": "213183f7",
   "metadata": {},
   "outputs": [
    {
     "data": {
      "text/plain": [
       "family with older children    22938568\n",
       "no children                    7747032\n",
       "family with young children      307064\n",
       "Name: family_status, dtype: int64"
      ]
     },
     "execution_count": 108,
     "metadata": {},
     "output_type": "execute_result"
    }
   ],
   "source": [
    "# Counting values of family_status\n",
    "df2['family_status'].value_counts()"
   ]
  },
  {
   "cell_type": "code",
   "execution_count": 109,
   "id": "ac44e920",
   "metadata": {},
   "outputs": [
    {
     "data": {
      "text/plain": [
       "family_status\n",
       "family with older children    11.394738\n",
       "family with young children    10.069643\n",
       "no children                   11.602518\n",
       "Name: avg_expenditure, dtype: float64"
      ]
     },
     "execution_count": 109,
     "metadata": {},
     "output_type": "execute_result"
    }
   ],
   "source": [
    "# Aggregating average amount spent by each family status category\n",
    "df2.groupby('family_status')['avg_expenditure'].mean()"
   ]
  },
  {
   "cell_type": "code",
   "execution_count": 110,
   "id": "250c8fdd",
   "metadata": {},
   "outputs": [
    {
     "data": {
      "text/plain": [
       "age_category\n",
       "college age          11.693860\n",
       "late career adult    11.277543\n",
       "middle age adult     11.775708\n",
       "senior               11.306990\n",
       "young adult          11.385032\n",
       "Name: avg_expenditure, dtype: float64"
      ]
     },
     "execution_count": 110,
     "metadata": {},
     "output_type": "execute_result"
    }
   ],
   "source": [
    "# Aggregating average amount spent by age category\n",
    "df2.groupby('age_category')['avg_expenditure'].mean()"
   ]
  },
  {
   "cell_type": "code",
   "execution_count": 111,
   "id": "265dc2bc",
   "metadata": {},
   "outputs": [
    {
     "data": {
      "text/plain": [
       "vegan_status\n",
       "not vegan    11.740676\n",
       "vegan        11.346071\n",
       "Name: avg_expenditure, dtype: float64"
      ]
     },
     "execution_count": 111,
     "metadata": {},
     "output_type": "execute_result"
    }
   ],
   "source": [
    "# Aggregating the average amount spent by vegan status\n",
    "df2.groupby('vegan_status')['avg_expenditure'].mean()"
   ]
  },
  {
   "cell_type": "markdown",
   "id": "241a1aef",
   "metadata": {},
   "source": [
    "#EXPORTING"
   ]
  },
  {
   "cell_type": "code",
   "execution_count": 112,
   "id": "92909d06",
   "metadata": {},
   "outputs": [],
   "source": [
    "df2.to_pickle(os.path.join(path,'Prepared Data 4.10','final_dataset.pkl'))"
   ]
  },
  {
   "cell_type": "code",
   "execution_count": null,
   "id": "2d5e19a4",
   "metadata": {},
   "outputs": [],
   "source": []
  }
 ],
 "metadata": {
  "kernelspec": {
   "display_name": "Python 3 (ipykernel)",
   "language": "python",
   "name": "python3"
  },
  "language_info": {
   "codemirror_mode": {
    "name": "ipython",
    "version": 3
   },
   "file_extension": ".py",
   "mimetype": "text/x-python",
   "name": "python",
   "nbconvert_exporter": "python",
   "pygments_lexer": "ipython3",
   "version": "3.9.12"
  }
 },
 "nbformat": 4,
 "nbformat_minor": 5
}
